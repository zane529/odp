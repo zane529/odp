{
 "cells": [
  {
   "cell_type": "markdown",
   "id": "59533431",
   "metadata": {},
   "source": [
    "## Demostration of Interactive Satellite Image Seraching (with AWS Open Data) "
   ]
  },
  {
   "cell_type": "markdown",
   "id": "df56caed",
   "metadata": {},
   "source": [
    "## Setup"
   ]
  },
  {
   "cell_type": "code",
   "execution_count": 1,
   "id": "798893c7-937d-4c9d-8a2c-f05639314997",
   "metadata": {},
   "outputs": [
    {
     "name": "stdout",
     "output_type": "stream",
     "text": [
      "Current working directory: /home/ec2-user/SageMaker/ODP_Demo/tmp\n"
     ]
    }
   ],
   "source": [
    "# Import the os module\n",
    "import os\n",
    "\n",
    "path = 'tmp/'\n",
    "\n",
    "try:\n",
    "    os.chdir(path)\n",
    "    print(\"Current working directory: {0}\".format(os.getcwd()))\n",
    "except FileNotFoundError:\n",
    "    print(\"Directory: {0} does not exist\".format(path))\n",
    "except NotADirectoryError:\n",
    "    print(\"{0} is not a directory\".format(path))\n",
    "except PermissionError:\n",
    "    print(\"You do not have permissions to change to {0}\".format(path))"
   ]
  },
  {
   "cell_type": "markdown",
   "id": "11215558",
   "metadata": {},
   "source": [
    "## Import Libaray"
   ]
  },
  {
   "cell_type": "code",
   "execution_count": 2,
   "id": "7c300878",
   "metadata": {
    "tags": []
   },
   "outputs": [],
   "source": [
    "import leafmap"
   ]
  },
  {
   "cell_type": "code",
   "execution_count": 3,
   "id": "7b509b83",
   "metadata": {
    "tags": []
   },
   "outputs": [],
   "source": [
    "url = 'https://earth-search.aws.element84.com/v1/'\n",
    "collection = 'sentinel-2-l2a'\n",
    "time_range = \"2020-12-01/2020-12-31\"\n",
    "bbox = [-122.2751, 47.5469, -121.9613, 47.7458]"
   ]
  },
  {
   "cell_type": "markdown",
   "id": "8ffc8739",
   "metadata": {},
   "source": [
    "## STAC Search & Dataset Query (6 demos)"
   ]
  },
  {
   "cell_type": "code",
   "execution_count": 4,
   "id": "e76cc352",
   "metadata": {
    "tags": []
   },
   "outputs": [
    {
     "data": {
      "text/plain": [
       "<pystac_client.item_search.ItemSearch at 0x7f23b5d360e0>"
      ]
     },
     "execution_count": 4,
     "metadata": {},
     "output_type": "execute_result"
    }
   ],
   "source": [
    "search = leafmap.stac_search(\n",
    "    url=url,\n",
    "    max_items=10,\n",
    "    collections=[collection],\n",
    "    bbox=bbox,\n",
    "    datetime=time_range,\n",
    "    query={\"eo:cloud_cover\": {\"lt\": 10}},\n",
    "    sortby=[{'field': 'properties.eo:cloud_cover', 'direction': 'asc'}],\n",
    ")\n",
    "search"
   ]
  },
  {
   "cell_type": "code",
   "execution_count": 5,
   "id": "78610307",
   "metadata": {
    "tags": []
   },
   "outputs": [],
   "source": [
    "search = leafmap.stac_search(\n",
    "    url=url,\n",
    "    max_items=10,\n",
    "    collections=[collection],\n",
    "    bbox=bbox,\n",
    "    datetime=time_range,\n",
    "    get_collection=True,\n",
    ")\n",
    "# search"
   ]
  },
  {
   "cell_type": "code",
   "execution_count": 6,
   "id": "29d48088",
   "metadata": {
    "tags": []
   },
   "outputs": [
    {
     "data": {
      "text/html": [
       "<div>\n",
       "<style scoped>\n",
       "    .dataframe tbody tr th:only-of-type {\n",
       "        vertical-align: middle;\n",
       "    }\n",
       "\n",
       "    .dataframe tbody tr th {\n",
       "        vertical-align: top;\n",
       "    }\n",
       "\n",
       "    .dataframe thead th {\n",
       "        text-align: right;\n",
       "    }\n",
       "</style>\n",
       "<table border=\"1\" class=\"dataframe\">\n",
       "  <thead>\n",
       "    <tr style=\"text-align: right;\">\n",
       "      <th></th>\n",
       "      <th>geometry</th>\n",
       "      <th>created</th>\n",
       "      <th>platform</th>\n",
       "      <th>constellation</th>\n",
       "      <th>instruments</th>\n",
       "      <th>eo:cloud_cover</th>\n",
       "      <th>proj:epsg</th>\n",
       "      <th>mgrs:utm_zone</th>\n",
       "      <th>mgrs:latitude_band</th>\n",
       "      <th>mgrs:grid_square</th>\n",
       "      <th>...</th>\n",
       "      <th>s2:datastrip_id</th>\n",
       "      <th>s2:granule_id</th>\n",
       "      <th>s2:reflectance_conversion_factor</th>\n",
       "      <th>datetime</th>\n",
       "      <th>s2:sequence</th>\n",
       "      <th>earthsearch:s3_path</th>\n",
       "      <th>earthsearch:payload_id</th>\n",
       "      <th>earthsearch:boa_offset_applied</th>\n",
       "      <th>processing:software</th>\n",
       "      <th>updated</th>\n",
       "    </tr>\n",
       "  </thead>\n",
       "  <tbody>\n",
       "    <tr>\n",
       "      <th>0</th>\n",
       "      <td>POLYGON ((-123.00025 47.85369, -121.53274 47.8...</td>\n",
       "      <td>2022-11-06T15:26:41.911Z</td>\n",
       "      <td>sentinel-2b</td>\n",
       "      <td>sentinel-2</td>\n",
       "      <td>[msi]</td>\n",
       "      <td>64.642105</td>\n",
       "      <td>32610</td>\n",
       "      <td>10</td>\n",
       "      <td>T</td>\n",
       "      <td>ET</td>\n",
       "      <td>...</td>\n",
       "      <td>S2B_OPER_MSI_L2A_DS_EPAE_20201231T212743_S2020...</td>\n",
       "      <td>S2B_OPER_MSI_L2A_TL_EPAE_20201231T212743_A0199...</td>\n",
       "      <td>1.034125</td>\n",
       "      <td>2020-12-31T19:21:21.475000Z</td>\n",
       "      <td>0</td>\n",
       "      <td>s3://sentinel-cogs/sentinel-s2-l2a-cogs/10/T/E...</td>\n",
       "      <td>roda-sentinel2/workflow-sentinel2-to-stac/6658...</td>\n",
       "      <td>False</td>\n",
       "      <td>{'sentinel2-to-stac': '0.1.0'}</td>\n",
       "      <td>2022-11-06T15:26:41.911Z</td>\n",
       "    </tr>\n",
       "    <tr>\n",
       "      <th>1</th>\n",
       "      <td>POLYGON ((-122.79462 47.85351, -121.53274 47.8...</td>\n",
       "      <td>2022-11-06T15:29:35.737Z</td>\n",
       "      <td>sentinel-2b</td>\n",
       "      <td>sentinel-2</td>\n",
       "      <td>[msi]</td>\n",
       "      <td>22.943574</td>\n",
       "      <td>32610</td>\n",
       "      <td>10</td>\n",
       "      <td>T</td>\n",
       "      <td>ET</td>\n",
       "      <td>...</td>\n",
       "      <td>S2B_OPER_MSI_L2A_DS_EPAE_20201228T211944_S2020...</td>\n",
       "      <td>S2B_OPER_MSI_L2A_TL_EPAE_20201228T211944_A0199...</td>\n",
       "      <td>1.033888</td>\n",
       "      <td>2020-12-28T19:11:24.522000Z</td>\n",
       "      <td>0</td>\n",
       "      <td>s3://sentinel-cogs/sentinel-s2-l2a-cogs/10/T/E...</td>\n",
       "      <td>roda-sentinel2/workflow-sentinel2-to-stac/e6b4...</td>\n",
       "      <td>False</td>\n",
       "      <td>{'sentinel2-to-stac': '0.1.0'}</td>\n",
       "      <td>2022-11-06T15:29:35.737Z</td>\n",
       "    </tr>\n",
       "    <tr>\n",
       "      <th>2</th>\n",
       "      <td>POLYGON ((-123.00025 47.85369, -121.53274 47.8...</td>\n",
       "      <td>2022-11-06T14:24:17.700Z</td>\n",
       "      <td>sentinel-2a</td>\n",
       "      <td>sentinel-2</td>\n",
       "      <td>[msi]</td>\n",
       "      <td>92.082709</td>\n",
       "      <td>32610</td>\n",
       "      <td>10</td>\n",
       "      <td>T</td>\n",
       "      <td>ET</td>\n",
       "      <td>...</td>\n",
       "      <td>S2A_OPER_MSI_L2A_DS_VGS2_20201226T212843_S2020...</td>\n",
       "      <td>S2A_OPER_MSI_L2A_TL_VGS2_20201226T212843_A0287...</td>\n",
       "      <td>1.033680</td>\n",
       "      <td>2020-12-26T19:21:22.738000Z</td>\n",
       "      <td>0</td>\n",
       "      <td>s3://sentinel-cogs/sentinel-s2-l2a-cogs/10/T/E...</td>\n",
       "      <td>roda-sentinel2/workflow-sentinel2-to-stac/438c...</td>\n",
       "      <td>False</td>\n",
       "      <td>{'sentinel2-to-stac': '0.1.0'}</td>\n",
       "      <td>2022-11-06T14:24:17.700Z</td>\n",
       "    </tr>\n",
       "    <tr>\n",
       "      <th>3</th>\n",
       "      <td>POLYGON ((-122.79970 47.85352, -121.53274 47.8...</td>\n",
       "      <td>2022-11-06T14:24:14.443Z</td>\n",
       "      <td>sentinel-2a</td>\n",
       "      <td>sentinel-2</td>\n",
       "      <td>[msi]</td>\n",
       "      <td>72.393963</td>\n",
       "      <td>32610</td>\n",
       "      <td>10</td>\n",
       "      <td>T</td>\n",
       "      <td>ET</td>\n",
       "      <td>...</td>\n",
       "      <td>S2A_OPER_MSI_L2A_DS_VGS2_20201223T213941_S2020...</td>\n",
       "      <td>S2A_OPER_MSI_L2A_TL_VGS2_20201223T213941_A0287...</td>\n",
       "      <td>1.033289</td>\n",
       "      <td>2020-12-23T19:11:25.818000Z</td>\n",
       "      <td>0</td>\n",
       "      <td>s3://sentinel-cogs/sentinel-s2-l2a-cogs/10/T/E...</td>\n",
       "      <td>roda-sentinel2/workflow-sentinel2-to-stac/fc27...</td>\n",
       "      <td>False</td>\n",
       "      <td>{'sentinel2-to-stac': '0.1.0'}</td>\n",
       "      <td>2022-11-06T14:24:14.443Z</td>\n",
       "    </tr>\n",
       "    <tr>\n",
       "      <th>4</th>\n",
       "      <td>POLYGON ((-123.00025 47.85369, -121.53274 47.8...</td>\n",
       "      <td>2022-11-06T14:24:20.015Z</td>\n",
       "      <td>sentinel-2b</td>\n",
       "      <td>sentinel-2</td>\n",
       "      <td>[msi]</td>\n",
       "      <td>92.342769</td>\n",
       "      <td>32610</td>\n",
       "      <td>10</td>\n",
       "      <td>T</td>\n",
       "      <td>ET</td>\n",
       "      <td>...</td>\n",
       "      <td>S2B_OPER_MSI_L2A_DS_EPAE_20201221T211842_S2020...</td>\n",
       "      <td>S2B_OPER_MSI_L2A_TL_EPAE_20201221T211842_A0198...</td>\n",
       "      <td>1.032979</td>\n",
       "      <td>2020-12-21T19:21:19.594000Z</td>\n",
       "      <td>0</td>\n",
       "      <td>s3://sentinel-cogs/sentinel-s2-l2a-cogs/10/T/E...</td>\n",
       "      <td>roda-sentinel2/workflow-sentinel2-to-stac/f67b...</td>\n",
       "      <td>False</td>\n",
       "      <td>{'sentinel2-to-stac': '0.1.0'}</td>\n",
       "      <td>2022-11-06T14:24:20.015Z</td>\n",
       "    </tr>\n",
       "  </tbody>\n",
       "</table>\n",
       "<p>5 rows × 42 columns</p>\n",
       "</div>"
      ],
      "text/plain": [
       "                                            geometry  \\\n",
       "0  POLYGON ((-123.00025 47.85369, -121.53274 47.8...   \n",
       "1  POLYGON ((-122.79462 47.85351, -121.53274 47.8...   \n",
       "2  POLYGON ((-123.00025 47.85369, -121.53274 47.8...   \n",
       "3  POLYGON ((-122.79970 47.85352, -121.53274 47.8...   \n",
       "4  POLYGON ((-123.00025 47.85369, -121.53274 47.8...   \n",
       "\n",
       "                    created     platform constellation instruments  \\\n",
       "0  2022-11-06T15:26:41.911Z  sentinel-2b    sentinel-2       [msi]   \n",
       "1  2022-11-06T15:29:35.737Z  sentinel-2b    sentinel-2       [msi]   \n",
       "2  2022-11-06T14:24:17.700Z  sentinel-2a    sentinel-2       [msi]   \n",
       "3  2022-11-06T14:24:14.443Z  sentinel-2a    sentinel-2       [msi]   \n",
       "4  2022-11-06T14:24:20.015Z  sentinel-2b    sentinel-2       [msi]   \n",
       "\n",
       "   eo:cloud_cover  proj:epsg  mgrs:utm_zone mgrs:latitude_band  \\\n",
       "0       64.642105      32610             10                  T   \n",
       "1       22.943574      32610             10                  T   \n",
       "2       92.082709      32610             10                  T   \n",
       "3       72.393963      32610             10                  T   \n",
       "4       92.342769      32610             10                  T   \n",
       "\n",
       "  mgrs:grid_square  ...                                    s2:datastrip_id  \\\n",
       "0               ET  ...  S2B_OPER_MSI_L2A_DS_EPAE_20201231T212743_S2020...   \n",
       "1               ET  ...  S2B_OPER_MSI_L2A_DS_EPAE_20201228T211944_S2020...   \n",
       "2               ET  ...  S2A_OPER_MSI_L2A_DS_VGS2_20201226T212843_S2020...   \n",
       "3               ET  ...  S2A_OPER_MSI_L2A_DS_VGS2_20201223T213941_S2020...   \n",
       "4               ET  ...  S2B_OPER_MSI_L2A_DS_EPAE_20201221T211842_S2020...   \n",
       "\n",
       "                                       s2:granule_id  \\\n",
       "0  S2B_OPER_MSI_L2A_TL_EPAE_20201231T212743_A0199...   \n",
       "1  S2B_OPER_MSI_L2A_TL_EPAE_20201228T211944_A0199...   \n",
       "2  S2A_OPER_MSI_L2A_TL_VGS2_20201226T212843_A0287...   \n",
       "3  S2A_OPER_MSI_L2A_TL_VGS2_20201223T213941_A0287...   \n",
       "4  S2B_OPER_MSI_L2A_TL_EPAE_20201221T211842_A0198...   \n",
       "\n",
       "   s2:reflectance_conversion_factor                     datetime  s2:sequence  \\\n",
       "0                          1.034125  2020-12-31T19:21:21.475000Z            0   \n",
       "1                          1.033888  2020-12-28T19:11:24.522000Z            0   \n",
       "2                          1.033680  2020-12-26T19:21:22.738000Z            0   \n",
       "3                          1.033289  2020-12-23T19:11:25.818000Z            0   \n",
       "4                          1.032979  2020-12-21T19:21:19.594000Z            0   \n",
       "\n",
       "                                 earthsearch:s3_path  \\\n",
       "0  s3://sentinel-cogs/sentinel-s2-l2a-cogs/10/T/E...   \n",
       "1  s3://sentinel-cogs/sentinel-s2-l2a-cogs/10/T/E...   \n",
       "2  s3://sentinel-cogs/sentinel-s2-l2a-cogs/10/T/E...   \n",
       "3  s3://sentinel-cogs/sentinel-s2-l2a-cogs/10/T/E...   \n",
       "4  s3://sentinel-cogs/sentinel-s2-l2a-cogs/10/T/E...   \n",
       "\n",
       "                              earthsearch:payload_id  \\\n",
       "0  roda-sentinel2/workflow-sentinel2-to-stac/6658...   \n",
       "1  roda-sentinel2/workflow-sentinel2-to-stac/e6b4...   \n",
       "2  roda-sentinel2/workflow-sentinel2-to-stac/438c...   \n",
       "3  roda-sentinel2/workflow-sentinel2-to-stac/fc27...   \n",
       "4  roda-sentinel2/workflow-sentinel2-to-stac/f67b...   \n",
       "\n",
       "   earthsearch:boa_offset_applied             processing:software  \\\n",
       "0                           False  {'sentinel2-to-stac': '0.1.0'}   \n",
       "1                           False  {'sentinel2-to-stac': '0.1.0'}   \n",
       "2                           False  {'sentinel2-to-stac': '0.1.0'}   \n",
       "3                           False  {'sentinel2-to-stac': '0.1.0'}   \n",
       "4                           False  {'sentinel2-to-stac': '0.1.0'}   \n",
       "\n",
       "                    updated  \n",
       "0  2022-11-06T15:26:41.911Z  \n",
       "1  2022-11-06T15:29:35.737Z  \n",
       "2  2022-11-06T14:24:17.700Z  \n",
       "3  2022-11-06T14:24:14.443Z  \n",
       "4  2022-11-06T14:24:20.015Z  \n",
       "\n",
       "[5 rows x 42 columns]"
      ]
     },
     "execution_count": 6,
     "metadata": {},
     "output_type": "execute_result"
    }
   ],
   "source": [
    "search = leafmap.stac_search(\n",
    "    url=url,\n",
    "    max_items=10,\n",
    "    collections=[collection],\n",
    "    bbox=bbox,\n",
    "    datetime=time_range,\n",
    "    get_gdf=True,\n",
    ")\n",
    "search.head()"
   ]
  },
  {
   "cell_type": "code",
   "execution_count": 7,
   "id": "5b2053f8",
   "metadata": {
    "tags": []
   },
   "outputs": [],
   "source": [
    "search = leafmap.stac_search(\n",
    "    url=url,\n",
    "    max_items=10,\n",
    "    collections=[collection],\n",
    "    bbox=bbox,\n",
    "    datetime=time_range,\n",
    "    get_assets=True,\n",
    ")\n",
    "# search"
   ]
  },
  {
   "cell_type": "code",
   "execution_count": 8,
   "id": "641ad7ee",
   "metadata": {
    "tags": []
   },
   "outputs": [],
   "source": [
    "search = leafmap.stac_search(\n",
    "    url=url,\n",
    "    max_items=10,\n",
    "    collections=[collection],\n",
    "    bbox=bbox,\n",
    "    datetime=time_range,\n",
    "    get_info=True,\n",
    ")\n",
    "# search"
   ]
  },
  {
   "cell_type": "code",
   "execution_count": 9,
   "id": "e3e994d1",
   "metadata": {
    "tags": []
   },
   "outputs": [
    {
     "data": {
      "text/plain": [
       "['https://earth-search.aws.element84.com/v1/collections/sentinel-2-l2a/items/S2B_10TET_20201231_0_L2A',\n",
       " 'https://earth-search.aws.element84.com/v1/collections/sentinel-2-l2a/items/S2B_10TET_20201228_0_L2A',\n",
       " 'https://earth-search.aws.element84.com/v1/collections/sentinel-2-l2a/items/S2A_10TET_20201226_0_L2A',\n",
       " 'https://earth-search.aws.element84.com/v1/collections/sentinel-2-l2a/items/S2A_10TET_20201223_0_L2A',\n",
       " 'https://earth-search.aws.element84.com/v1/collections/sentinel-2-l2a/items/S2B_10TET_20201221_0_L2A',\n",
       " 'https://earth-search.aws.element84.com/v1/collections/sentinel-2-l2a/items/S2B_10TET_20201218_0_L2A',\n",
       " 'https://earth-search.aws.element84.com/v1/collections/sentinel-2-l2a/items/S2A_10TET_20201216_0_L2A',\n",
       " 'https://earth-search.aws.element84.com/v1/collections/sentinel-2-l2a/items/S2A_10TET_20201213_0_L2A',\n",
       " 'https://earth-search.aws.element84.com/v1/collections/sentinel-2-l2a/items/S2B_10TET_20201211_0_L2A',\n",
       " 'https://earth-search.aws.element84.com/v1/collections/sentinel-2-l2a/items/S2B_10TET_20201208_0_L2A']"
      ]
     },
     "execution_count": 9,
     "metadata": {},
     "output_type": "execute_result"
    }
   ],
   "source": [
    "search = leafmap.stac_search(\n",
    "    url=url,\n",
    "    max_items=10,\n",
    "    collections=[collection],\n",
    "    bbox=bbox,\n",
    "    datetime=time_range,\n",
    "    get_links=True,\n",
    ")\n",
    "search"
   ]
  },
  {
   "cell_type": "markdown",
   "id": "cc564229",
   "metadata": {},
   "source": [
    "## Visualize Open Geospatial Dataset Interactively"
   ]
  },
  {
   "cell_type": "markdown",
   "id": "e7904dd0",
   "metadata": {},
   "source": [
    "Setup interactive map configuration"
   ]
  },
  {
   "cell_type": "code",
   "execution_count": 10,
   "id": "8656ba77",
   "metadata": {
    "tags": []
   },
   "outputs": [
    {
     "data": {
      "application/vnd.jupyter.widget-view+json": {
       "model_id": "ab2b83fddb6b4231b0f36d6e21ef38c3",
       "version_major": 2,
       "version_minor": 0
      },
      "text/plain": [
       "Map(center=[37.7517, -122.4433], controls=(ZoomControl(options=['position', 'zoom_in_text', 'zoom_in_title', '…"
      ]
     },
     "execution_count": 10,
     "metadata": {},
     "output_type": "execute_result"
    }
   ],
   "source": [
    "m = leafmap.Map(\n",
    "    center=[37.7517, -122.4433], zoom=8,\n",
    "    attribution_control=False,\n",
    ")\n",
    "m"
   ]
  },
  {
   "cell_type": "markdown",
   "id": "3b2e6d8b",
   "metadata": {},
   "source": [
    "## Search Results Access (Pull from S3)"
   ]
  },
  {
   "cell_type": "code",
   "execution_count": 11,
   "id": "226335a5",
   "metadata": {},
   "outputs": [],
   "source": [
    "# m.stac_gdf  # The GeoDataFrame of the STAC search results"
   ]
  },
  {
   "cell_type": "code",
   "execution_count": 12,
   "id": "70091659",
   "metadata": {},
   "outputs": [],
   "source": [
    "# m.stac_dict  # The STAC search results as a dictionary"
   ]
  },
  {
   "cell_type": "code",
   "execution_count": 13,
   "id": "3fea3ea7",
   "metadata": {
    "tags": []
   },
   "outputs": [],
   "source": [
    "# m.stac_item  # The selected STAC item of the search result"
   ]
  },
  {
   "cell_type": "code",
   "execution_count": null,
   "id": "4c426a23-4192-4f97-b385-633a428b376d",
   "metadata": {},
   "outputs": [],
   "source": []
  }
 ],
 "metadata": {
  "kernelspec": {
   "display_name": "Python 3 (ipykernel)",
   "language": "python",
   "name": "python3"
  },
  "language_info": {
   "codemirror_mode": {
    "name": "ipython",
    "version": 3
   },
   "file_extension": ".py",
   "mimetype": "text/x-python",
   "name": "python",
   "nbconvert_exporter": "python",
   "pygments_lexer": "ipython3",
   "version": "3.10.8"
  }
 },
 "nbformat": 4,
 "nbformat_minor": 5
}
