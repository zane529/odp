{
 "cells": [
  {
   "cell_type": "markdown",
   "id": "a7250629",
   "metadata": {},
   "source": [
    "# Visualizing Maxar Open Data with Leafmap\n",
    "\n",
    "\n",
    "The [Maxar Open Data Program](https://www.maxar.com/open-data) provides pre- and post-event high-resolution satellite imagery in support of emergency planning, risk assessment, monitoring of staging areas and emergency response, damage assessment, and recovery. Check out the links below for more information.\n",
    "- [Maxar Open Data Program](https://www.maxar.com/open-data)\n",
    "- [Maxar Open Data on AWS](https://registry.opendata.aws/maxar-open-data/)\n",
    "- [Maxar Open Data on STAC Index](https://stacindex.org/catalogs/maxar-open-data-catalog-ard-format#/)\n",
    "- [Maxar Open Data on STAC Browser](https://radiantearth.github.io/stac-browser/#/external/maxar-opendata.s3.amazonaws.com/events/catalog.json?.language=en)\n",
    "\n",
    "The Maxar Open Data STAC catalog URL is: https://maxar-opendata.s3.amazonaws.com/events/catalog.json"
   ]
  },
  {
   "cell_type": "markdown",
   "id": "a7302b6f-c640-43c6-8c64-29dabb09cbe2",
   "metadata": {
    "tags": []
   },
   "source": [
    "Prepare Working Directory"
   ]
  },
  {
   "cell_type": "code",
   "execution_count": null,
   "id": "1bfc73d5-7835-4ee7-b5f7-07f4bbd8e0f1",
   "metadata": {},
   "outputs": [],
   "source": [
    "# Import the os module\n",
    "import os\n",
    "\n",
    "path = 'tmp/'\n",
    "\n",
    "try:\n",
    "    os.chdir(path)\n",
    "    print(\"Current working directory: {0}\".format(os.getcwd()))\n",
    "except FileNotFoundError:\n",
    "    print(\"Directory: {0} does not exist\".format(path))\n",
    "except NotADirectoryError:\n",
    "    print(\"{0} is not a directory\".format(path))\n",
    "except PermissionError:\n",
    "    print(\"You do not have permissions to change to {0}\".format(path))"
   ]
  },
  {
   "cell_type": "markdown",
   "id": "e5a489f5-1c0a-489b-b10c-9c6b42b5b7b3",
   "metadata": {
    "tags": []
   },
   "source": [
    "Import Libaray"
   ]
  },
  {
   "cell_type": "code",
   "execution_count": null,
   "id": "26362b2a",
   "metadata": {
    "tags": []
   },
   "outputs": [],
   "source": [
    "import leafmap"
   ]
  },
  {
   "cell_type": "markdown",
   "id": "bb9cf125",
   "metadata": {},
   "source": [
    "Retrieve all collections from the Maxar Open Data STAC catalog. Each collection represents a single event."
   ]
  },
  {
   "cell_type": "code",
   "execution_count": null,
   "id": "f24044ff",
   "metadata": {
    "tags": []
   },
   "outputs": [],
   "source": [
    "leafmap.maxar_collections()"
   ]
  },
  {
   "cell_type": "markdown",
   "id": "a9b54da9",
   "metadata": {},
   "source": [
    "Retrieve all collections for a specific event:"
   ]
  },
  {
   "cell_type": "code",
   "execution_count": null,
   "id": "5e12a90e",
   "metadata": {
    "tags": []
   },
   "outputs": [],
   "source": [
    "collections = leafmap.maxar_child_collections('Kahramanmaras-turkey-earthquake-23')\n",
    "print(f\"The number of collections: {len(collections)}\")"
   ]
  },
  {
   "cell_type": "code",
   "execution_count": null,
   "id": "eafb1bf5",
   "metadata": {
    "tags": []
   },
   "outputs": [],
   "source": [
    "collections[:5]"
   ]
  },
  {
   "cell_type": "markdown",
   "id": "95345429",
   "metadata": {},
   "source": [
    "Retrieve all items (tiles) for a specific collection and generate the footprints:"
   ]
  },
  {
   "cell_type": "code",
   "execution_count": null,
   "id": "f905c814",
   "metadata": {
    "tags": []
   },
   "outputs": [],
   "source": [
    "gdf = leafmap.maxar_items(\n",
    "    collection_id='Kahramanmaras-turkey-earthquake-23',\n",
    "    child_id='1050050044DE7E00',\n",
    "    return_gdf=True,\n",
    "    assets=['visual'],\n",
    ")\n",
    "gdf.head()"
   ]
  },
  {
   "cell_type": "markdown",
   "id": "626b1e6c",
   "metadata": {},
   "source": [
    "Add the footprints to the map:"
   ]
  },
  {
   "cell_type": "code",
   "execution_count": null,
   "id": "91762623",
   "metadata": {
    "tags": []
   },
   "outputs": [],
   "source": [
    "m = leafmap.Map()\n",
    "m.add_gdf(gdf, layer_name=\"Footprints\")\n",
    "m"
   ]
  },
  {
   "cell_type": "markdown",
   "id": "6abb148a",
   "metadata": {},
   "source": [
    "Retrieve the COG URLs for all tiles in a collection:"
   ]
  },
  {
   "cell_type": "code",
   "execution_count": null,
   "id": "6dddf6fc",
   "metadata": {
    "tags": []
   },
   "outputs": [],
   "source": [
    "images = gdf['visual'].tolist()\n",
    "images[:5]"
   ]
  },
  {
   "cell_type": "markdown",
   "id": "09dd60f9",
   "metadata": {},
   "source": [
    "Create a mosaic json file for the collection. You need to install `cogeo-mosaic` first using `pip install cogeo-mosaic`. Creating a mosaic json file might take a few minutes. Please be patient."
   ]
  },
  {
   "cell_type": "code",
   "execution_count": null,
   "id": "b39e230e",
   "metadata": {
    "tags": []
   },
   "outputs": [],
   "source": [
    "leafmap.create_mosaicjson(images, output='1050050044DE7E00.json')"
   ]
  },
  {
   "cell_type": "markdown",
   "id": "b8ea19ea",
   "metadata": {},
   "source": [
    "Make the mosaic json file available on the web, then you can add the mosaic to the map:"
   ]
  },
  {
   "cell_type": "code",
   "execution_count": null,
   "id": "582e5716",
   "metadata": {
    "tags": []
   },
   "outputs": [],
   "source": [
    "m = leafmap.Map()\n",
    "url = 'https://geospatial.glitch.me/1050050044DE7E00.json'\n",
    "m.add_stac_layer(url, name=\"Mosaic\")\n",
    "m.add_gdf(gdf, layer_name=\"Footprints\")\n",
    "m"
   ]
  },
  {
   "cell_type": "markdown",
   "id": "d3afb28b",
   "metadata": {},
   "source": [
    "Retrieve the footprint of all tiles for a specific event. This might take 15+ minutes. Please be patient."
   ]
  },
  {
   "cell_type": "code",
   "execution_count": null,
   "id": "25f1fde2",
   "metadata": {},
   "outputs": [],
   "source": [
    "# gdf = leafmap.maxar_all_items(\n",
    "#     collection_id='Kahramanmaras-turkey-earthquake-23',\n",
    "#     return_gdf=True,\n",
    "#     verbose=True\n",
    "#     )\n",
    "# gdf.to_file('maxar_footprints.geojson', driver='GeoJSON')\n",
    "# gdf"
   ]
  },
  {
   "cell_type": "markdown",
   "id": "c9f609a0",
   "metadata": {},
   "source": [
    "Add the footprints to the map:"
   ]
  },
  {
   "cell_type": "code",
   "execution_count": null,
   "id": "9e384eeb",
   "metadata": {
    "tags": []
   },
   "outputs": [],
   "source": [
    "m = leafmap.Map(center=[36.844461, 37.386475], zoom=8)\n",
    "# m.add_gdf(gdf, layer_name=\"Footprints\")\n",
    "url = 'https://cdn.glitch.global/cc5b7737-d8d0-4b07-bf2f-867b9009e986/maxar_footprints.geojson?v=1676583955698'\n",
    "m.add_geojson(url, layer_name=\"Footprints\")\n",
    "m"
   ]
  }
 ],
 "metadata": {
  "kernelspec": {
   "display_name": "Python 3 (ipykernel)",
   "language": "python",
   "name": "python3"
  },
  "language_info": {
   "codemirror_mode": {
    "name": "ipython",
    "version": 3
   },
   "file_extension": ".py",
   "mimetype": "text/x-python",
   "name": "python",
   "nbconvert_exporter": "python",
   "pygments_lexer": "ipython3",
   "version": "3.10.8"
  }
 },
 "nbformat": 4,
 "nbformat_minor": 5
}
