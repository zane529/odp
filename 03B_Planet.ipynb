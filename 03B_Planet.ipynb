{
 "cells": [
  {
   "cell_type": "markdown",
   "id": "2e0c693f",
   "metadata": {},
   "source": [
    "## Create basemap gallery"
   ]
  },
  {
   "cell_type": "code",
   "execution_count": 1,
   "id": "16818807",
   "metadata": {},
   "outputs": [],
   "source": [
    "import leafmap"
   ]
  },
  {
   "cell_type": "code",
   "execution_count": 2,
   "id": "fa2e9355",
   "metadata": {},
   "outputs": [
    {
     "name": "stdout",
     "output_type": "stream",
     "text": [
      "OpenStreetMap\n",
      "ROADMAP\n",
      "SATELLITE\n",
      "TERRAIN\n",
      "HYBRID\n",
      "FWS NWI Wetlands\n",
      "FWS NWI Wetlands Raster\n",
      "NLCD 2019 CONUS Land Cover\n",
      "NLCD 2016 CONUS Land Cover\n",
      "NLCD 2013 CONUS Land Cover\n",
      "NLCD 2011 CONUS Land Cover\n",
      "NLCD 2008 CONUS Land Cover\n",
      "NLCD 2006 CONUS Land Cover\n",
      "NLCD 2004 CONUS Land Cover\n",
      "NLCD 2001 CONUS Land Cover\n",
      "USGS NAIP Imagery\n",
      "USGS NAIP Imagery False Color\n",
      "USGS NAIP Imagery NDVI\n",
      "USGS Hydrography\n",
      "USGS 3DEP Elevation\n",
      "ESA WorldCover 2020\n",
      "ESA WorldCover 2020 S2 FCC\n",
      "ESA WorldCover 2020 S2 TCC\n",
      "ESA WorldCover 2021\n",
      "ESA WorldCover 2021 S2 FCC\n",
      "ESA WorldCover 2021 S2 TCC\n",
      "BasemapAT.basemap\n",
      "BasemapAT.grau\n",
      "BasemapAT.highdpi\n",
      "BasemapAT.orthofoto\n",
      "BasemapAT.overlay\n",
      "BasemapAT.surface\n",
      "BasemapAT.terrain\n",
      "CartoDB.DarkMatter\n",
      "CartoDB.DarkMatterNoLabels\n",
      "CartoDB.DarkMatterOnlyLabels\n",
      "CartoDB.Positron\n",
      "CartoDB.PositronNoLabels\n",
      "CartoDB.PositronOnlyLabels\n",
      "CartoDB.Voyager\n",
      "CartoDB.VoyagerLabelsUnder\n",
      "CartoDB.VoyagerNoLabels\n",
      "CartoDB.VoyagerOnlyLabels\n",
      "CyclOSM\n",
      "Esri.AntarcticBasemap\n",
      "Esri.AntarcticImagery\n",
      "Esri.ArcticImagery\n",
      "Esri.ArcticOceanBase\n",
      "Esri.ArcticOceanReference\n",
      "Esri.DeLorme\n",
      "Esri.NatGeoWorldMap\n",
      "Esri.OceanBasemap\n",
      "Esri.WorldGrayCanvas\n",
      "Esri.WorldImagery\n",
      "Esri.WorldPhysical\n",
      "Esri.WorldShadedRelief\n",
      "Esri.WorldStreetMap\n",
      "Esri.WorldTerrain\n",
      "Esri.WorldTopoMap\n",
      "FreeMapSK\n",
      "Gaode.Normal\n",
      "Gaode.Satellite\n",
      "HikeBike.HikeBike\n",
      "HikeBike.HillShading\n",
      "JusticeMap.americanIndian\n",
      "JusticeMap.asian\n",
      "JusticeMap.black\n",
      "JusticeMap.hispanic\n",
      "JusticeMap.income\n",
      "JusticeMap.multi\n",
      "JusticeMap.nonWhite\n",
      "JusticeMap.plurality\n",
      "JusticeMap.white\n",
      "MtbMap\n",
      "NASAGIBS.ASTER_GDEM_Greyscale_Shaded_Relief\n",
      "NASAGIBS.BlueMarble\n",
      "NASAGIBS.BlueMarble3031\n",
      "NASAGIBS.BlueMarble3413\n",
      "NASAGIBS.ModisAquaBands721CR\n",
      "NASAGIBS.ModisAquaTrueColorCR\n",
      "NASAGIBS.ModisTerraAOD\n",
      "NASAGIBS.ModisTerraBands367CR\n",
      "NASAGIBS.ModisTerraBands721CR\n",
      "NASAGIBS.ModisTerraChlorophyll\n",
      "NASAGIBS.ModisTerraLSTDay\n",
      "NASAGIBS.ModisTerraSnowCover\n",
      "NASAGIBS.ModisTerraTrueColorCR\n",
      "NASAGIBS.ViirsEarthAtNight2012\n",
      "NASAGIBS.ViirsTrueColorCR\n",
      "NLS\n",
      "OPNVKarte\n",
      "OneMapSG.Default\n",
      "OneMapSG.Grey\n",
      "OneMapSG.LandLot\n",
      "OneMapSG.Night\n",
      "OneMapSG.Original\n",
      "OpenAIP\n",
      "OpenFireMap\n",
      "OpenRailwayMap\n",
      "OpenSeaMap\n",
      "OpenSnowMap.pistes\n",
      "OpenStreetMap.BZH\n",
      "OpenStreetMap.BlackAndWhite\n",
      "OpenStreetMap.CH\n",
      "OpenStreetMap.DE\n",
      "OpenStreetMap.HOT\n",
      "OpenStreetMap.Mapnik\n",
      "OpenTopoMap\n",
      "SafeCast\n",
      "Stadia.AlidadeSmooth\n",
      "Stadia.AlidadeSmoothDark\n",
      "Stadia.OSMBright\n",
      "Stadia.Outdoors\n",
      "Stamen.Terrain\n",
      "Stamen.TerrainBackground\n",
      "Stamen.TerrainLabels\n",
      "Stamen.Toner\n",
      "Stamen.TonerBackground\n",
      "Stamen.TonerHybrid\n",
      "Stamen.TonerLabels\n",
      "Stamen.TonerLines\n",
      "Stamen.TonerLite\n",
      "Stamen.TopOSMFeatures\n",
      "Stamen.TopOSMRelief\n",
      "Stamen.Watercolor\n",
      "Strava.All\n",
      "Strava.Ride\n",
      "Strava.Run\n",
      "Strava.Water\n",
      "Strava.Winter\n",
      "SwissFederalGeoportal.JourneyThroughTime\n",
      "SwissFederalGeoportal.NationalMapColor\n",
      "SwissFederalGeoportal.NationalMapGrey\n",
      "SwissFederalGeoportal.SWISSIMAGE\n",
      "USGS.USImagery\n",
      "USGS.USImageryTopo\n",
      "USGS.USTopo\n",
      "WaymarkedTrails.cycling\n",
      "WaymarkedTrails.hiking\n",
      "WaymarkedTrails.mtb\n",
      "WaymarkedTrails.riding\n",
      "WaymarkedTrails.skating\n",
      "WaymarkedTrails.slopes\n",
      "nlmaps.grijs\n",
      "nlmaps.luchtfoto\n",
      "nlmaps.pastel\n",
      "nlmaps.standaard\n",
      "nlmaps.water\n"
     ]
    }
   ],
   "source": [
    "for basemap in leafmap.basemaps:\n",
    "    print(basemap)"
   ]
  },
  {
   "cell_type": "code",
   "execution_count": 3,
   "id": "907180cd",
   "metadata": {},
   "outputs": [],
   "source": [
    "layers = list(leafmap.basemaps.keys())[17:117]"
   ]
  },
  {
   "cell_type": "code",
   "execution_count": 4,
   "id": "74cf4371",
   "metadata": {},
   "outputs": [
    {
     "data": {
      "application/vnd.jupyter.widget-view+json": {
       "model_id": "9462976455d4424a9427ba091823c3bf",
       "version_major": 2,
       "version_minor": 0
      },
      "text/plain": [
       "GridspecLayout(children=(Output(layout=Layout(grid_area='widget001')), Output(layout=Layout(grid_area='widget0…"
      ]
     },
     "execution_count": 4,
     "metadata": {},
     "output_type": "execute_result"
    }
   ],
   "source": [
    "leafmap.linked_maps(rows=20, cols=5, height=\"200px\", layers=layers, labels=layers)"
   ]
  },
  {
   "cell_type": "markdown",
   "id": "4bfe77ad",
   "metadata": {},
   "source": [
    "## Use planet imagery\n",
    "\n",
    "First, you need to [sign up](https://www.planet.com/login/?mode=signup) a Planet account and get an API key. See  https://developers.planet.com/quickstart/apis.\n",
    "Uncomment the following line to pass in your API key."
   ]
  },
  {
   "cell_type": "code",
   "execution_count": 5,
   "id": "6c963b82",
   "metadata": {},
   "outputs": [],
   "source": [
    "import os\n",
    "import leafmap"
   ]
  },
  {
   "cell_type": "code",
   "execution_count": 6,
   "id": "b2414ff9",
   "metadata": {},
   "outputs": [],
   "source": [
    "if os.environ.get(\"PLANET_API_KEY\") is None:\n",
    "    os.environ[\"PLANET_API_KEY\"] = 'your-api-key'"
   ]
  },
  {
   "cell_type": "code",
   "execution_count": 7,
   "id": "31af73d5",
   "metadata": {},
   "outputs": [],
   "source": [
    "quarterly_tiles = leafmap.planet_quarterly_tiles()"
   ]
  },
  {
   "cell_type": "code",
   "execution_count": 8,
   "id": "59f89453",
   "metadata": {},
   "outputs": [
    {
     "name": "stdout",
     "output_type": "stream",
     "text": [
      "Planet_2016q1\n",
      "Planet_2016q2\n",
      "Planet_2016q3\n",
      "Planet_2016q4\n",
      "Planet_2017q1\n",
      "Planet_2017q2\n",
      "Planet_2017q3\n",
      "Planet_2017q4\n",
      "Planet_2018q1\n",
      "Planet_2018q2\n",
      "Planet_2018q3\n",
      "Planet_2018q4\n",
      "Planet_2019q1\n",
      "Planet_2019q2\n",
      "Planet_2019q3\n",
      "Planet_2019q4\n",
      "Planet_2020q1\n",
      "Planet_2020q2\n",
      "Planet_2020q3\n",
      "Planet_2020q4\n",
      "Planet_2021q1\n",
      "Planet_2021q2\n",
      "Planet_2021q3\n",
      "Planet_2021q4\n",
      "Planet_2022q1\n",
      "Planet_2022q2\n",
      "Planet_2022q3\n",
      "Planet_2022q4\n",
      "Planet_2023q1\n"
     ]
    }
   ],
   "source": [
    "for tile in quarterly_tiles:\n",
    "    print(tile)"
   ]
  },
  {
   "cell_type": "code",
   "execution_count": 9,
   "id": "5483a8cf",
   "metadata": {},
   "outputs": [],
   "source": [
    "monthly_tiles = leafmap.planet_monthly_tiles()"
   ]
  },
  {
   "cell_type": "code",
   "execution_count": 10,
   "id": "76a6ba78",
   "metadata": {},
   "outputs": [
    {
     "name": "stdout",
     "output_type": "stream",
     "text": [
      "Planet_2016_01\n",
      "Planet_2016_02\n",
      "Planet_2016_03\n",
      "Planet_2016_04\n",
      "Planet_2016_05\n",
      "Planet_2016_06\n",
      "Planet_2016_07\n",
      "Planet_2016_08\n",
      "Planet_2016_09\n",
      "Planet_2016_10\n",
      "Planet_2016_11\n",
      "Planet_2016_12\n",
      "Planet_2017_01\n",
      "Planet_2017_02\n",
      "Planet_2017_03\n",
      "Planet_2017_04\n",
      "Planet_2017_05\n",
      "Planet_2017_06\n",
      "Planet_2017_07\n",
      "Planet_2017_08\n",
      "Planet_2017_09\n",
      "Planet_2017_10\n",
      "Planet_2017_11\n",
      "Planet_2017_12\n",
      "Planet_2018_01\n",
      "Planet_2018_02\n",
      "Planet_2018_03\n",
      "Planet_2018_04\n",
      "Planet_2018_05\n",
      "Planet_2018_06\n",
      "Planet_2018_07\n",
      "Planet_2018_08\n",
      "Planet_2018_09\n",
      "Planet_2018_10\n",
      "Planet_2018_11\n",
      "Planet_2018_12\n",
      "Planet_2019_01\n",
      "Planet_2019_02\n",
      "Planet_2019_03\n",
      "Planet_2019_04\n",
      "Planet_2019_05\n",
      "Planet_2019_06\n",
      "Planet_2019_07\n",
      "Planet_2019_08\n",
      "Planet_2019_09\n",
      "Planet_2019_10\n",
      "Planet_2019_11\n",
      "Planet_2019_12\n",
      "Planet_2020_01\n",
      "Planet_2020_02\n",
      "Planet_2020_03\n",
      "Planet_2020_04\n",
      "Planet_2020_05\n",
      "Planet_2020_06\n",
      "Planet_2020_07\n",
      "Planet_2020_08\n",
      "Planet_2020_09\n",
      "Planet_2020_10\n",
      "Planet_2020_11\n",
      "Planet_2020_12\n",
      "Planet_2021_01\n",
      "Planet_2021_02\n",
      "Planet_2021_03\n",
      "Planet_2021_04\n",
      "Planet_2021_05\n",
      "Planet_2021_06\n",
      "Planet_2021_07\n",
      "Planet_2021_08\n",
      "Planet_2021_09\n",
      "Planet_2021_10\n",
      "Planet_2021_11\n",
      "Planet_2021_12\n",
      "Planet_2022_01\n",
      "Planet_2022_02\n",
      "Planet_2022_03\n",
      "Planet_2022_04\n",
      "Planet_2022_05\n",
      "Planet_2022_06\n",
      "Planet_2022_07\n",
      "Planet_2022_08\n",
      "Planet_2022_09\n",
      "Planet_2022_10\n",
      "Planet_2022_11\n",
      "Planet_2022_12\n",
      "Planet_2023_01\n",
      "Planet_2023_02\n",
      "Planet_2023_03\n",
      "Planet_2023_04\n",
      "Planet_2023_05\n"
     ]
    }
   ],
   "source": [
    "for tile in monthly_tiles:\n",
    "    print(tile)"
   ]
  },
  {
   "cell_type": "markdown",
   "id": "10fdceeb",
   "metadata": {},
   "source": [
    "Add a Planet monthly mosaic by specifying year and month."
   ]
  },
  {
   "cell_type": "markdown",
   "id": "e9f166e4",
   "metadata": {},
   "source": [
    "## Use timeseries inspector"
   ]
  },
  {
   "cell_type": "code",
   "execution_count": 13,
   "id": "9d2310b2",
   "metadata": {},
   "outputs": [],
   "source": [
    "import os\n",
    "import leafmap"
   ]
  },
  {
   "cell_type": "code",
   "execution_count": 14,
   "id": "38fcabd8",
   "metadata": {},
   "outputs": [],
   "source": [
    "if os.environ.get(\"PLANET_API_KEY\") is None:\n",
    "    os.environ[\"PLANET_API_KEY\"] = 'your-api-key'"
   ]
  },
  {
   "cell_type": "code",
   "execution_count": 15,
   "id": "1769de41",
   "metadata": {},
   "outputs": [],
   "source": [
    "tiles = leafmap.planet_tiles()"
   ]
  },
  {
   "cell_type": "code",
   "execution_count": 16,
   "id": "b5710e9e",
   "metadata": {},
   "outputs": [
    {
     "data": {
      "application/vnd.jupyter.widget-view+json": {
       "model_id": "378b3eec1c3b4a779390a42b3a523ead",
       "version_major": 2,
       "version_minor": 0
      },
      "text/plain": [
       "Map(center=[40, -100], controls=(AttributionControl(options=['position', 'prefix'], position='bottomright'), S…"
      ]
     },
     "execution_count": 16,
     "metadata": {},
     "output_type": "execute_result"
    }
   ],
   "source": [
    "leafmap.ts_inspector(tiles, center=[40, -100], zoom=4)"
   ]
  },
  {
   "cell_type": "markdown",
   "id": "7bb9e9ca",
   "metadata": {},
   "source": [
    "## Use time slider"
   ]
  },
  {
   "cell_type": "markdown",
   "id": "477d99bc",
   "metadata": {},
   "source": [
    "Use the time slider to visualize Planet quarterly mosaic.\n",
    "\n",
    "![](https://i.imgur.com/ipVJ4cb.gif)"
   ]
  },
  {
   "cell_type": "code",
   "execution_count": 17,
   "id": "9c65c53a",
   "metadata": {},
   "outputs": [],
   "source": [
    "import os\n",
    "import leafmap"
   ]
  },
  {
   "cell_type": "code",
   "execution_count": 18,
   "id": "35b57d5e",
   "metadata": {},
   "outputs": [],
   "source": [
    "if os.environ.get(\"PLANET_API_KEY\") is None:\n",
    "    os.environ[\"PLANET_API_KEY\"] = 'your-api-key'"
   ]
  },
  {
   "cell_type": "markdown",
   "id": "98bb6a36",
   "metadata": {},
   "source": [
    "Specify the map center and zoom level."
   ]
  },
  {
   "cell_type": "code",
   "execution_count": 19,
   "id": "c551b553",
   "metadata": {},
   "outputs": [
    {
     "data": {
      "application/vnd.jupyter.widget-view+json": {
       "model_id": "af304d23512640e69abff817e6df90ab",
       "version_major": 2,
       "version_minor": 0
      },
      "text/plain": [
       "Map(center=[38.2659, -103.2447], controls=(ZoomControl(options=['position', 'zoom_in_text', 'zoom_in_title', '…"
      ]
     },
     "execution_count": 19,
     "metadata": {},
     "output_type": "execute_result"
    }
   ],
   "source": [
    "m = leafmap.Map(center=[38.2659, -103.2447], zoom=13)\n",
    "m"
   ]
  },
  {
   "cell_type": "markdown",
   "id": "0e992a8c",
   "metadata": {},
   "source": [
    "Use the time slider to visualize Planet quarterly mosaic."
   ]
  },
  {
   "cell_type": "code",
   "execution_count": 22,
   "id": "8d426b41",
   "metadata": {},
   "outputs": [
    {
     "data": {
      "application/vnd.jupyter.widget-view+json": {
       "model_id": "251b7fa52eb649fa9ccbfdabda25df09",
       "version_major": 2,
       "version_minor": 0
      },
      "text/plain": [
       "Map(center=[38.2659, -103.2447], controls=(ZoomControl(options=['position', 'zoom_in_text', 'zoom_in_title', '…"
      ]
     },
     "execution_count": 22,
     "metadata": {},
     "output_type": "execute_result"
    }
   ],
   "source": [
    "m = leafmap.Map(center=[38.2659, -103.2447], zoom=13)\n",
    "layers_dict = leafmap.planet_quarterly_tiles()\n",
    "m.add_time_slider(layers_dict, time_interval=1)\n",
    "m"
   ]
  }
 ],
 "metadata": {
  "kernelspec": {
   "display_name": "Python 3 (ipykernel)",
   "language": "python",
   "name": "python3"
  },
  "language_info": {
   "codemirror_mode": {
    "name": "ipython",
    "version": 3
   },
   "file_extension": ".py",
   "mimetype": "text/x-python",
   "name": "python",
   "nbconvert_exporter": "python",
   "pygments_lexer": "ipython3",
   "version": "3.10.8"
  }
 },
 "nbformat": 4,
 "nbformat_minor": 5
}
