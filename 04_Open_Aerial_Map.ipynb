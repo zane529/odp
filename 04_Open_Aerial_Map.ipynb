{
 "cells": [
  {
   "cell_type": "markdown",
   "id": "a05a5570",
   "metadata": {},
   "source": [
    "# Searching and visualizing OpenAerialMap imagery interactively\n",
    "\n",
    "[OpenAerialMap](https://openaerialmap.org/) (OAM) provides openly licensed satellite and unmanned aerial vehicle (UAV) imagery. Currently, it has over 12,400+ images around the globe. This notebook demonstrates how to search and visualize OAM imagery interactively. You can download images automatically with one line of code."
   ]
  },
  {
   "cell_type": "markdown",
   "id": "e214ff58-123c-49da-9467-cb85046e7baa",
   "metadata": {
    "tags": []
   },
   "source": [
    "## Prepare Working Directory"
   ]
  },
  {
   "cell_type": "code",
   "execution_count": null,
   "id": "67344644-3858-4c22-bf2d-faa0b034f7a1",
   "metadata": {
    "tags": []
   },
   "outputs": [],
   "source": [
    "# Import the os module\n",
    "import os\n",
    "\n",
    "path = 'tmp/'\n",
    "\n",
    "try:\n",
    "    os.chdir(path)\n",
    "    print(\"Current working directory: {0}\".format(os.getcwd()))\n",
    "except FileNotFoundError:\n",
    "    print(\"Directory: {0} does not exist\".format(path))\n",
    "except NotADirectoryError:\n",
    "    print(\"{0} is not a directory\".format(path))\n",
    "except PermissionError:\n",
    "    print(\"You do not have permissions to change to {0}\".format(path))"
   ]
  },
  {
   "cell_type": "markdown",
   "id": "d5d80b58-ee4b-4d5a-ac79-ad067aa5b70b",
   "metadata": {
    "tags": []
   },
   "source": [
    "## Run"
   ]
  },
  {
   "cell_type": "code",
   "execution_count": null,
   "id": "e2fb415b",
   "metadata": {
    "tags": []
   },
   "outputs": [],
   "source": [
    "import leafmap"
   ]
  },
  {
   "cell_type": "markdown",
   "id": "307a3c9a",
   "metadata": {},
   "source": [
    "Search OAM images by a bounding box and a date range. The results can be returned as a GeoDataFrame or a list of image metadata."
   ]
  },
  {
   "cell_type": "code",
   "execution_count": null,
   "id": "17e2f226",
   "metadata": {
    "tags": []
   },
   "outputs": [],
   "source": [
    "bbox = [-79.6344, -0.9063, -77.3383, 1.0436]\n",
    "start_date = '2016-04-01'\n",
    "end_date = '2016-04-30'\n",
    "gdf = leafmap.oam_search(\n",
    "    bbox=bbox, start_date=start_date, end_date=end_date, return_gdf=True\n",
    ")\n",
    "print(f'Found {len(gdf)} images')"
   ]
  },
  {
   "cell_type": "code",
   "execution_count": null,
   "id": "0ae173e4",
   "metadata": {
    "tags": []
   },
   "outputs": [],
   "source": [
    "gdf.head()"
   ]
  },
  {
   "cell_type": "markdown",
   "id": "aa781671",
   "metadata": {},
   "source": [
    "The tile URLs are stored in the `tms` column of the GeoDataFrame."
   ]
  },
  {
   "cell_type": "code",
   "execution_count": null,
   "id": "a6461914",
   "metadata": {
    "tags": []
   },
   "outputs": [],
   "source": [
    "tiles = gdf['tms'].tolist()\n",
    "tiles[:5]"
   ]
  },
  {
   "cell_type": "markdown",
   "id": "ffba844f",
   "metadata": {},
   "source": [
    "The image sources (downloadable URLs) are stored in the `uuid` column of the GeoDataFrame."
   ]
  },
  {
   "cell_type": "code",
   "execution_count": null,
   "id": "3ccbc1f4",
   "metadata": {
    "tags": []
   },
   "outputs": [],
   "source": [
    "images = gdf['uuid'].tolist()\n",
    "images[:5]"
   ]
  },
  {
   "cell_type": "markdown",
   "id": "bc81a080",
   "metadata": {},
   "source": [
    "Download all images using the `download_files()` function."
   ]
  },
  {
   "cell_type": "code",
   "execution_count": null,
   "id": "e7efbb46",
   "metadata": {
    "tags": []
   },
   "outputs": [],
   "source": [
    "leafmap.download_files(images[:2])"
   ]
  },
  {
   "cell_type": "markdown",
   "id": "88387150",
   "metadata": {},
   "source": [
    "Add the image footprints to the map."
   ]
  },
  {
   "cell_type": "code",
   "execution_count": null,
   "id": "d4d219c8",
   "metadata": {
    "tags": []
   },
   "outputs": [],
   "source": [
    "m = leafmap.Map()\n",
    "m.add_gdf(gdf, layer_name='Footprints')\n",
    "m"
   ]
  },
  {
   "cell_type": "markdown",
   "id": "17554c88",
   "metadata": {},
   "source": [
    "Search OAM imagery within the current map extent or user drawn ROI."
   ]
  },
  {
   "cell_type": "code",
   "execution_count": null,
   "id": "14a5e468",
   "metadata": {
    "tags": []
   },
   "outputs": [],
   "source": [
    "m = leafmap.Map(center=[4.7955, -75.6899], zoom=15)\n",
    "m.add_basemap('SATELLITE', show=False)\n",
    "\n",
    "bbox = [-75.7138, 4.7826, -75.6659, 4.808332]\n",
    "m.oam_search(bbox=bbox)\n",
    "\n",
    "m"
   ]
  },
  {
   "cell_type": "markdown",
   "id": "a869848c",
   "metadata": {},
   "source": [
    "Search OAM imagery interactively using the interactive GUI."
   ]
  },
  {
   "cell_type": "code",
   "execution_count": null,
   "id": "4d60d6e0",
   "metadata": {
    "tags": []
   },
   "outputs": [],
   "source": [
    "m = leafmap.Map(center=[4.7955, -75.6899], zoom=15)\n",
    "m"
   ]
  },
  {
   "cell_type": "markdown",
   "id": "a917679e",
   "metadata": {},
   "source": [
    "![](https://i.imgur.com/YLnNOVF.gif)"
   ]
  }
 ],
 "metadata": {
  "kernelspec": {
   "display_name": "Python 3 (ipykernel)",
   "language": "python",
   "name": "python3"
  },
  "language_info": {
   "codemirror_mode": {
    "name": "ipython",
    "version": 3
   },
   "file_extension": ".py",
   "mimetype": "text/x-python",
   "name": "python",
   "nbconvert_exporter": "python",
   "pygments_lexer": "ipython3",
   "version": "3.10.8"
  }
 },
 "nbformat": 4,
 "nbformat_minor": 5
}
