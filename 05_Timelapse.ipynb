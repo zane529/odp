{
 "cells": [
  {
   "cell_type": "markdown",
   "id": "53cfb268",
   "metadata": {},
   "source": [
    "# Creating timelapse animations from satellite imagery timeseries\n"
   ]
  },
  {
   "cell_type": "markdown",
   "id": "6d0b0973-0fd0-401e-9074-c443ebd1148b",
   "metadata": {},
   "source": [
    "## Prepare Working Directory"
   ]
  },
  {
   "cell_type": "code",
   "execution_count": null,
   "id": "1e86cd78-3c3a-4da8-b484-868a40b6d189",
   "metadata": {},
   "outputs": [],
   "source": [
    "# Import the os module\n",
    "import os\n",
    "\n",
    "path = 'tmp/'\n",
    "\n",
    "try:\n",
    "    os.chdir(path)\n",
    "    print(\"Current working directory: {0}\".format(os.getcwd()))\n",
    "except FileNotFoundError:\n",
    "    print(\"Directory: {0} does not exist\".format(path))\n",
    "except NotADirectoryError:\n",
    "    print(\"{0} is not a directory\".format(path))\n",
    "except PermissionError:\n",
    "    print(\"You do not have permissions to change to {0}\".format(path))"
   ]
  },
  {
   "cell_type": "markdown",
   "id": "8e681c8e-727c-44b1-92d6-8be3a26d15f8",
   "metadata": {
    "tags": []
   },
   "source": [
    "## Import Libaray"
   ]
  },
  {
   "cell_type": "code",
   "execution_count": null,
   "id": "a0433080",
   "metadata": {
    "tags": []
   },
   "outputs": [],
   "source": [
    "import leafmap"
   ]
  },
  {
   "cell_type": "markdown",
   "id": "f2dc1b4f",
   "metadata": {},
   "source": [
    "## Landsat Timelapse\n",
    "\n",
    "Download Landsat imagery covering [Pucallpa, Peru](https://goo.gl/maps/nYGnFAC3zqrFkFWWA) from 1984 to 2022."
   ]
  },
  {
   "cell_type": "code",
   "execution_count": null,
   "id": "0c0b8b93",
   "metadata": {
    "tags": []
   },
   "outputs": [],
   "source": [
    "url = 'https://github.com/opengeos/data/raw/main/landsat/peru.zip'\n",
    "leafmap.download_file(url)"
   ]
  },
  {
   "cell_type": "markdown",
   "id": "3b0480a1",
   "metadata": {},
   "source": [
    "The downloaded zip file contains 38 Landsat images covering the area. They have been unzipped and saved to the `peru` folder. All GeoTIFF files under the `peru` folder will be used to create the timelapse animation."
   ]
  },
  {
   "cell_type": "code",
   "execution_count": null,
   "id": "a6b995e1",
   "metadata": {
    "tags": []
   },
   "outputs": [],
   "source": [
    "images = 'peru/*.tif'"
   ]
  },
  {
   "cell_type": "markdown",
   "id": "3ef6c2ca",
   "metadata": {},
   "source": [
    "Each imagery contains four bands, including SWIR1, NIR, Red, and Green. First, let's create a Landsat timelapse using the `SWIR1/NIR/Red` bands."
   ]
  },
  {
   "cell_type": "code",
   "execution_count": null,
   "id": "96b84a5b",
   "metadata": {
    "tags": []
   },
   "outputs": [],
   "source": [
    "leafmap.create_timelapse(\n",
    "    images,\n",
    "    out_gif='landsat.gif',\n",
    "    bands=[0, 1, 2],\n",
    "    fps=10,\n",
    "    progress_bar_color='blue',\n",
    "    add_text=True,\n",
    "    text_xy=('3%', '3%'),\n",
    "    text_sequence=1984,\n",
    "    font_size=20,\n",
    "    font_color='black',\n",
    "    mp4=False,\n",
    "    reduce_size=False,\n",
    ")"
   ]
  },
  {
   "cell_type": "code",
   "execution_count": null,
   "id": "bc107375",
   "metadata": {
    "tags": []
   },
   "outputs": [],
   "source": [
    "leafmap.show_image('landsat.gif')"
   ]
  },
  {
   "cell_type": "markdown",
   "id": "f02654ab",
   "metadata": {},
   "source": [
    "![](https://i.imgur.com/BRQAdsB.gif)"
   ]
  },
  {
   "cell_type": "markdown",
   "id": "c19ef776",
   "metadata": {},
   "source": [
    "Creating another Landsat timelapse using the `NIR/Red/Green` bands."
   ]
  },
  {
   "cell_type": "code",
   "execution_count": null,
   "id": "275f4c09",
   "metadata": {
    "tags": []
   },
   "outputs": [],
   "source": [
    "leafmap.create_timelapse(\n",
    "    images,\n",
    "    out_gif='landsat2.gif',\n",
    "    bands=[1, 2, 3],\n",
    "    fps=10,\n",
    "    progress_bar_color='blue',\n",
    "    add_text=True,\n",
    "    text_xy=('3%', '3%'),\n",
    "    text_sequence=1984,\n",
    "    font_size=20,\n",
    "    font_color='black',\n",
    ")"
   ]
  },
  {
   "cell_type": "code",
   "execution_count": null,
   "id": "b31fbfbb",
   "metadata": {
    "tags": []
   },
   "outputs": [],
   "source": [
    "leafmap.show_image('landsat2.gif')"
   ]
  },
  {
   "cell_type": "markdown",
   "id": "01b1a92b",
   "metadata": {},
   "source": [
    "![](https://i.imgur.com/Yv2o5Kx.gif)"
   ]
  },
  {
   "cell_type": "markdown",
   "id": "9101eac9",
   "metadata": {},
   "source": [
    "You can also create a timelapse using Cloud Optimized GeoTIFF (COG) files hosted on the web. The following example uses some COG files hosted on [GitHub](https://github.com/opengeos/data/tree/main/landsat). If the original image size (shape) is too large, you can use the `size` parameter (rows, cols) to resize the image. The following example resizes the image to (300, 550)."
   ]
  },
  {
   "cell_type": "markdown",
   "id": "4ecd7ba6",
   "metadata": {},
   "source": [
    "## NAIP Timelapse\n",
    "\n",
    "Download [NAIP](https://naip-usdaonline.hub.arcgis.com/) imagery covering [Valley Spring, North Dakota](https://goo.gl/maps/tb6MbsRtjSqudUrA8) from 2009 to 2020."
   ]
  },
  {
   "cell_type": "code",
   "execution_count": null,
   "id": "8016ab79",
   "metadata": {
    "tags": []
   },
   "outputs": [],
   "source": [
    "url = 'https://github.com/opengeos/data/raw/main/naip/naip.zip'\n",
    "leafmap.download_file(url)"
   ]
  },
  {
   "cell_type": "markdown",
   "id": "058ce2a5",
   "metadata": {},
   "source": [
    "The downloaded zip file contains 10 NAIP images covering the area. All GeoTIFF files under the `naip` folder will be used to create the timelapse animation."
   ]
  },
  {
   "cell_type": "code",
   "execution_count": null,
   "id": "5980dcd6",
   "metadata": {
    "tags": []
   },
   "outputs": [],
   "source": [
    "images = 'naip/*.tif'"
   ]
  },
  {
   "cell_type": "markdown",
   "id": "1f7c6546",
   "metadata": {},
   "source": [
    "The images cover the area from 2009 to 2020 annually except 2011 and 2013. Each image contains four bands, including Red, Green, Blue, and NIR."
   ]
  },
  {
   "cell_type": "code",
   "execution_count": null,
   "id": "0bb0363b",
   "metadata": {
    "tags": []
   },
   "outputs": [],
   "source": [
    "text_sequence = [str(year) for year in range(2009, 2021)]\n",
    "text_sequence.remove('2011')\n",
    "text_sequence.remove('2013')\n",
    "text_sequence"
   ]
  },
  {
   "cell_type": "markdown",
   "id": "0f1bb1c2",
   "metadata": {},
   "source": [
    "Creating a timelapse using the `Red/Green/Blue` bands."
   ]
  },
  {
   "cell_type": "code",
   "execution_count": null,
   "id": "55f6aac9",
   "metadata": {
    "tags": []
   },
   "outputs": [],
   "source": [
    "leafmap.create_timelapse(\n",
    "    images,\n",
    "    out_gif='naip.gif',\n",
    "    bands=[0, 1, 2],\n",
    "    fps=3,\n",
    "    add_progress_bar=True,\n",
    "    progress_bar_color='blue',\n",
    "    add_text=True,\n",
    "    text_xy=('4%', '4%'),\n",
    "    text_sequence=text_sequence,\n",
    "    font_size=30,\n",
    "    font_color='white',\n",
    ")"
   ]
  },
  {
   "cell_type": "code",
   "execution_count": null,
   "id": "93ed9246",
   "metadata": {
    "tags": []
   },
   "outputs": [],
   "source": [
    "leafmap.show_image('naip.gif')"
   ]
  },
  {
   "cell_type": "markdown",
   "id": "d58bf83f",
   "metadata": {},
   "source": [
    "![](https://i.imgur.com/mFFCa63.gif)"
   ]
  },
  {
   "cell_type": "markdown",
   "id": "1e24c5bd",
   "metadata": {},
   "source": [
    "Creating a timelapse using the `NIR/Red/Green` bands."
   ]
  },
  {
   "cell_type": "code",
   "execution_count": null,
   "id": "f1021898",
   "metadata": {
    "tags": []
   },
   "outputs": [],
   "source": [
    "leafmap.create_timelapse(\n",
    "    images,\n",
    "    out_gif='naip2.gif',\n",
    "    bands=[3, 0, 1],\n",
    "    fps=3,\n",
    "    add_progress_bar=True,\n",
    "    progress_bar_color='blue',\n",
    "    add_text=True,\n",
    "    text_xy=('4%', '4%'),\n",
    "    text_sequence=text_sequence,\n",
    "    font_size=30,\n",
    "    font_color='white',\n",
    ")"
   ]
  },
  {
   "cell_type": "code",
   "execution_count": null,
   "id": "3cc94a63",
   "metadata": {
    "tags": []
   },
   "outputs": [],
   "source": [
    "leafmap.show_image('naip2.gif')"
   ]
  },
  {
   "cell_type": "markdown",
   "id": "94dd14ac",
   "metadata": {},
   "source": [
    "![](https://i.imgur.com/KP5MQt2.gif)"
   ]
  }
 ],
 "metadata": {
  "kernelspec": {
   "display_name": "Python 3 (ipykernel)",
   "language": "python",
   "name": "python3"
  },
  "language_info": {
   "codemirror_mode": {
    "name": "ipython",
    "version": 3
   },
   "file_extension": ".py",
   "mimetype": "text/x-python",
   "name": "python",
   "nbconvert_exporter": "python",
   "pygments_lexer": "ipython3",
   "version": "3.10.8"
  }
 },
 "nbformat": 4,
 "nbformat_minor": 5
}
