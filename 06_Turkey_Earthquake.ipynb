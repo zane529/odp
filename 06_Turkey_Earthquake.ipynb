{
 "cells": [
  {
   "cell_type": "markdown",
   "id": "1f366e1f",
   "metadata": {},
   "source": [
    "# Visualizing Maxar Open Data for the 2023 Turkey-Syria Earthquake\n",
    "\n",
    "The [Maxar Open Data Program](https://www.maxar.com/open-data) provides pre- and post-event high-resolution satellite imagery in support of emergency planning, risk assessment, monitoring of staging areas and emergency response, damage assessment, and recovery. Check out the links below for more information.\n",
    "- [Maxar Open Data Program](https://www.maxar.com/open-data)\n",
    "- [Maxar Open Data on AWS](https://registry.opendata.aws/maxar-open-data/)\n",
    "- [Maxar Open Data on STAC Index](https://stacindex.org/catalogs/maxar-open-data-catalog-ard-format#/)\n",
    "- [Maxar Open Data on STAC Browser](https://radiantearth.github.io/stac-browser/#/external/maxar-opendata.s3.amazonaws.com/events/catalog.json?.language=en)\n",
    "- [Maxar Open Data in CSV, GeoJSON, and MosaicJSON formats](https://github.com/giswqs/maxar-open-data)\n",
    "\n",
    "This notebook shows how to visualize and download the Maxar Open Data for the 2023 Turkey Earthquake using leafmap."
   ]
  },
  {
   "cell_type": "markdown",
   "id": "f79751a7-787c-48af-acfe-8d64ce9e3027",
   "metadata": {},
   "source": [
    "## Prepare Working Directory"
   ]
  },
  {
   "cell_type": "code",
   "execution_count": null,
   "id": "b8b96736-7418-4da6-93fb-f55037a4041e",
   "metadata": {},
   "outputs": [],
   "source": [
    "# Import the os module\n",
    "import os\n",
    "\n",
    "path = 'tmp/'\n",
    "\n",
    "try:\n",
    "    os.chdir(path)\n",
    "    print(\"Current working directory: {0}\".format(os.getcwd()))\n",
    "except FileNotFoundError:\n",
    "    print(\"Directory: {0} does not exist\".format(path))\n",
    "except NotADirectoryError:\n",
    "    print(\"{0} is not a directory\".format(path))\n",
    "except PermissionError:\n",
    "    print(\"You do not have permissions to change to {0}\".format(path))"
   ]
  },
  {
   "cell_type": "markdown",
   "id": "714d3b55-9179-4b56-a6ba-366a22ef0dd4",
   "metadata": {
    "tags": []
   },
   "source": [
    "## Import Libaray"
   ]
  },
  {
   "cell_type": "code",
   "execution_count": null,
   "id": "19273248",
   "metadata": {
    "tags": []
   },
   "outputs": [],
   "source": [
    "import leafmap\n",
    "import geopandas as gpd"
   ]
  },
  {
   "cell_type": "markdown",
   "id": "124b6373",
   "metadata": {},
   "source": [
    "Retrieve all collections from the Maxar Open Data STAC catalog. Each collection represents a single event."
   ]
  },
  {
   "cell_type": "code",
   "execution_count": null,
   "id": "ff88880d",
   "metadata": {
    "tags": []
   },
   "outputs": [],
   "source": [
    "leafmap.maxar_collections()"
   ]
  },
  {
   "cell_type": "markdown",
   "id": "edb0677f",
   "metadata": {},
   "source": [
    "The collection ID for the 2023 Turkey Earthquake is `Kahramanmaras-turkey-earthquake-23`. We can get the footprints ([geojson](https://github.com/giswqs/maxar-open-data/blob/master/datasets/Kahramanmaras-turkey-earthquake-23.geojson), [tsv](https://github.com/giswqs/maxar-open-data/blob/master/datasets/Kahramanmaras-turkey-earthquake-23.tsv)) of the event from the [Maxar Open Data GitHub repo](https://github.com/giswqs/maxar-open-data):"
   ]
  },
  {
   "cell_type": "code",
   "execution_count": null,
   "id": "d6598bf2",
   "metadata": {
    "tags": []
   },
   "outputs": [],
   "source": [
    "collection = 'Kahramanmaras-turkey-earthquake-23'\n",
    "url = leafmap.maxar_collection_url(collection, dtype='geojson')\n",
    "url"
   ]
  },
  {
   "cell_type": "markdown",
   "id": "ea292afd",
   "metadata": {},
   "source": [
    "Let's find out how many images are available for the event:"
   ]
  },
  {
   "cell_type": "code",
   "execution_count": null,
   "id": "a459378b",
   "metadata": {
    "tags": []
   },
   "outputs": [],
   "source": [
    "gdf = gpd.read_file(url)\n",
    "print(f'Total number of images: {len(gdf)}')\n",
    "gdf.head()"
   ]
  },
  {
   "cell_type": "markdown",
   "id": "5fe97532",
   "metadata": {},
   "source": [
    "Visualize the footprints of the images on the map:"
   ]
  },
  {
   "cell_type": "code",
   "execution_count": null,
   "id": "a1d36f71",
   "metadata": {
    "tags": []
   },
   "outputs": [],
   "source": [
    "m = leafmap.Map()\n",
    "m.add_gdf(gdf, layer_name='Footprints')\n",
    "m"
   ]
  },
  {
   "cell_type": "markdown",
   "id": "293359cf",
   "metadata": {},
   "source": [
    "The earthquake started on February 6, 2023. We can use the `start_date` and `end_date` parameters to filter the images by date. Set `end_date` to `2023-02-06` to get all images captured before the earthquake:"
   ]
  },
  {
   "cell_type": "code",
   "execution_count": null,
   "id": "5f20994d",
   "metadata": {
    "tags": []
   },
   "outputs": [],
   "source": [
    "pre_gdf = leafmap.maxar_search(collection, end_date='2023-02-06')\n",
    "print(f'Total number of pre-event images: {len(pre_gdf)}')\n",
    "pre_gdf.head()"
   ]
  },
  {
   "cell_type": "markdown",
   "id": "f6e17692",
   "metadata": {},
   "source": [
    "Set the `start_date` to `2023-02-06` to get all images captured after the earthquake:"
   ]
  },
  {
   "cell_type": "code",
   "execution_count": null,
   "id": "f1292075",
   "metadata": {
    "tags": []
   },
   "outputs": [],
   "source": [
    "post_gdf = leafmap.maxar_search(collection, start_date='2023-02-06')\n",
    "print(f'Total number of post-event images: {len(post_gdf)}')\n",
    "post_gdf.head()"
   ]
  },
  {
   "cell_type": "markdown",
   "id": "0fc89ad9",
   "metadata": {},
   "source": [
    "Visualize the pre-event and post-event image footprints on the map. The red footprints represent the pre-event images and the blue footprints represent the post-event images:"
   ]
  },
  {
   "cell_type": "code",
   "execution_count": null,
   "id": "01094eb5",
   "metadata": {
    "tags": []
   },
   "outputs": [],
   "source": [
    "m = leafmap.Map()\n",
    "pre_style = {'color': 'red', 'fillColor': 'red', 'opacity': 1, 'fillOpacity': 0.5}\n",
    "m.add_gdf(pre_gdf, layer_name='Pre-event', style=pre_style, info_mode='on_click')\n",
    "m.add_gdf(post_gdf, layer_name='Post-event', info_mode='on_click')\n",
    "m"
   ]
  },
  {
   "cell_type": "markdown",
   "id": "7212d2ec",
   "metadata": {},
   "source": [
    "Use the draw tools to select a region of interest (ROI) and get the bounding box coordinates:"
   ]
  },
  {
   "cell_type": "code",
   "execution_count": null,
   "id": "92fb23f0",
   "metadata": {
    "tags": []
   },
   "outputs": [],
   "source": [
    "bbox = m.user_roi_bounds()\n",
    "if bbox is None:\n",
    "    bbox = [36.8715, 37.5497, 36.9814, 37.6019]"
   ]
  },
  {
   "cell_type": "markdown",
   "id": "4fe41b16",
   "metadata": {},
   "source": [
    "Search the Maxar Open Data catalog for images within the ROI before the earthquake:"
   ]
  },
  {
   "cell_type": "code",
   "execution_count": null,
   "id": "e40c61bf",
   "metadata": {
    "tags": []
   },
   "outputs": [],
   "source": [
    "pre_event = leafmap.maxar_search(collection, bbox=bbox, end_date='2023-02-06')\n",
    "pre_event.head()"
   ]
  },
  {
   "cell_type": "markdown",
   "id": "c683a00e",
   "metadata": {},
   "source": [
    "Search the Maxar Open Data catalog for images within the ROI after the earthquake:"
   ]
  },
  {
   "cell_type": "code",
   "execution_count": null,
   "id": "8b663671",
   "metadata": {
    "tags": []
   },
   "outputs": [],
   "source": [
    "post_event = leafmap.maxar_search(collection, bbox=bbox, start_date='2023-02-06')\n",
    "post_event.head()"
   ]
  },
  {
   "cell_type": "markdown",
   "id": "61777bf7",
   "metadata": {},
   "source": [
    "Get the catalog id of the pre-event tile, which contain several images. Each of the image has a unique `quadkey`:"
   ]
  },
  {
   "cell_type": "code",
   "execution_count": null,
   "id": "3696811b",
   "metadata": {
    "tags": []
   },
   "outputs": [],
   "source": [
    "pre_tile = pre_event['catalog_id'].values[0]\n",
    "pre_tile"
   ]
  },
  {
   "cell_type": "markdown",
   "id": "801bd4eb",
   "metadata": {},
   "source": [
    "Get the catalog id of the post-event tile, which contain several images. Each of the image has a unique `quadkey`:"
   ]
  },
  {
   "cell_type": "code",
   "execution_count": null,
   "id": "2914386c",
   "metadata": {
    "tags": []
   },
   "outputs": [],
   "source": [
    "post_tile = post_event['catalog_id'].values[0]\n",
    "post_tile"
   ]
  },
  {
   "cell_type": "markdown",
   "id": "085f6f20",
   "metadata": {},
   "source": [
    "Get the MosaicJSON for the pre-event tile:"
   ]
  },
  {
   "cell_type": "code",
   "execution_count": null,
   "id": "dc0d8829",
   "metadata": {
    "tags": []
   },
   "outputs": [],
   "source": [
    "pre_stac = leafmap.maxar_tile_url(collection, pre_tile, dtype='json')\n",
    "pre_stac"
   ]
  },
  {
   "cell_type": "markdown",
   "id": "b95904a1",
   "metadata": {},
   "source": [
    "Get the MosaicJSON for the post-event tile:"
   ]
  },
  {
   "cell_type": "code",
   "execution_count": null,
   "id": "b7945403",
   "metadata": {
    "tags": []
   },
   "outputs": [],
   "source": [
    "post_stac = leafmap.maxar_tile_url(collection, post_tile, dtype='json')\n",
    "post_stac"
   ]
  },
  {
   "cell_type": "markdown",
   "id": "a2aa7341",
   "metadata": {},
   "source": [
    "Create a split map to compare the pre-event and post-event images. Note the the ipyleaflet split map has some bugs ([source](https://github.com/jupyter-widgets/ipyleaflet/issues/1066)), so we will use the folium plotting backend instead."
   ]
  },
  {
   "cell_type": "code",
   "execution_count": null,
   "id": "9767b4e9",
   "metadata": {
    "tags": []
   },
   "outputs": [],
   "source": [
    "import leafmap.foliumap as leafmap"
   ]
  },
  {
   "cell_type": "code",
   "execution_count": null,
   "id": "41b92799",
   "metadata": {
    "tags": []
   },
   "outputs": [],
   "source": [
    "m = leafmap.Map()\n",
    "m.split_map(\n",
    "    left_layer=pre_stac,\n",
    "    right_layer=post_stac,\n",
    "    left_label='Pre-event',\n",
    "    right_label='Post-event',\n",
    ")\n",
    "m.set_center(36.9265, 37.5762, 16)\n",
    "m"
   ]
  },
  {
   "cell_type": "markdown",
   "id": "a0d5dc39",
   "metadata": {},
   "source": [
    "Get download links for the pre-event and post-event images:"
   ]
  },
  {
   "cell_type": "code",
   "execution_count": null,
   "id": "75653fa4",
   "metadata": {
    "tags": []
   },
   "outputs": [],
   "source": [
    "pre_images = pre_event['visual'].tolist()\n",
    "post_images = post_event['visual'].tolist()"
   ]
  },
  {
   "cell_type": "markdown",
   "id": "4fef8064",
   "metadata": {},
   "source": [
    "Download the pre-event and post-event images:"
   ]
  },
  {
   "cell_type": "code",
   "execution_count": null,
   "id": "96f70549",
   "metadata": {
    "tags": []
   },
   "outputs": [],
   "source": [
    "# leafmap.maxar_download(pre_images)"
   ]
  },
  {
   "cell_type": "code",
   "execution_count": null,
   "id": "11595f93",
   "metadata": {
    "tags": []
   },
   "outputs": [],
   "source": [
    "# leafmap.maxar_download(post_images)"
   ]
  },
  {
   "cell_type": "code",
   "execution_count": null,
   "id": "f9eb38f8-e752-4a58-bb2d-25ec2c1a362b",
   "metadata": {},
   "outputs": [],
   "source": []
  }
 ],
 "metadata": {
  "kernelspec": {
   "display_name": "Python 3 (ipykernel)",
   "language": "python",
   "name": "python3"
  },
  "language_info": {
   "codemirror_mode": {
    "name": "ipython",
    "version": 3
   },
   "file_extension": ".py",
   "mimetype": "text/x-python",
   "name": "python",
   "nbconvert_exporter": "python",
   "pygments_lexer": "ipython3",
   "version": "3.10.8"
  }
 },
 "nbformat": 4,
 "nbformat_minor": 5
}
