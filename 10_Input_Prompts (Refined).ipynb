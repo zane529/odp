{
 "cells": [
  {
   "cell_type": "markdown",
   "metadata": {},
   "source": [
    "# Generating object masks from input prompts with SAM\n",
    "This notebook shows how to generate object masks from input prompts with the Segment Anything Model (SAM). Make sure you use GPU runtime for this notebook. "
   ]
  },
  {
   "cell_type": "markdown",
   "metadata": {},
   "source": [
    "## Setup"
   ]
  },
  {
   "cell_type": "code",
   "execution_count": 1,
   "metadata": {},
   "outputs": [
    {
     "name": "stdout",
     "output_type": "stream",
     "text": [
      "Current working directory: /home/ec2-user/SageMaker/ODP_Demo/tmp\n"
     ]
    }
   ],
   "source": [
    "# Import the os module\n",
    "import os\n",
    "\n",
    "path = 'tmp/'\n",
    "\n",
    "try:\n",
    "    os.chdir(path)\n",
    "    print(\"Current working directory: {0}\".format(os.getcwd()))\n",
    "except FileNotFoundError:\n",
    "    print(\"Directory: {0} does not exist\".format(path))\n",
    "except NotADirectoryError:\n",
    "    print(\"{0} is not a directory\".format(path))\n",
    "except PermissionError:\n",
    "    print(\"You do not have permissions to change to {0}\".format(path))"
   ]
  },
  {
   "cell_type": "markdown",
   "metadata": {},
   "source": [
    "## Import Libaray"
   ]
  },
  {
   "cell_type": "code",
   "execution_count": 2,
   "metadata": {},
   "outputs": [],
   "source": [
    "import leafmap\n",
    "from samgeo import SamGeo, tms_to_geotiff"
   ]
  },
  {
   "cell_type": "markdown",
   "metadata": {},
   "source": [
    "## Create an interactive map"
   ]
  },
  {
   "cell_type": "code",
   "execution_count": 3,
   "metadata": {},
   "outputs": [
    {
     "data": {
      "application/vnd.jupyter.widget-view+json": {
       "model_id": "ad163a98fa304d9a9806a963f08f7d24",
       "version_major": 2,
       "version_minor": 0
      },
      "text/plain": [
       "Map(center=[37.6412, -122.1353], controls=(ZoomControl(options=['position', 'zoom_in_text', 'zoom_in_title', '…"
      ]
     },
     "execution_count": 3,
     "metadata": {},
     "output_type": "execute_result"
    }
   ],
   "source": [
    "m = leafmap.Map(center=[37.6412, -122.1353], zoom=15, height=\"800px\")\n",
    "m.add_basemap(\"SATELLITE\")\n",
    "m.attribution_control=False\n",
    "m"
   ]
  },
  {
   "cell_type": "markdown",
   "metadata": {},
   "source": [
    "## Download a sample image\n",
    "\n",
    "Pan and zoom the map to select the area of interest. Use the draw tools to draw a polygon or rectangle on the map"
   ]
  },
  {
   "cell_type": "code",
   "execution_count": 4,
   "metadata": {},
   "outputs": [],
   "source": [
    "if m.user_roi is not None:\n",
    "    bbox = m.user_roi_bounds()\n",
    "else:\n",
    "    bbox = [-122.1497, 37.6311, -122.1203, 37.6458]"
   ]
  },
  {
   "cell_type": "code",
   "execution_count": 5,
   "metadata": {},
   "outputs": [
    {
     "name": "stdout",
     "output_type": "stream",
     "text": [
      "Downloaded image 01/30\n",
      "Downloaded image 02/30\n",
      "Downloaded image 03/30\n",
      "Downloaded image 04/30\n",
      "Downloaded image 05/30\n",
      "Downloaded image 06/30\n",
      "Downloaded image 07/30\n",
      "Downloaded image 08/30\n",
      "Downloaded image 09/30\n",
      "Downloaded image 10/30\n",
      "Downloaded image 11/30\n",
      "Downloaded image 12/30\n",
      "Downloaded image 13/30\n",
      "Downloaded image 14/30\n",
      "Downloaded image 15/30\n",
      "Downloaded image 16/30\n",
      "Downloaded image 17/30\n",
      "Downloaded image 18/30\n",
      "Downloaded image 19/30\n",
      "Downloaded image 20/30\n",
      "Downloaded image 21/30\n",
      "Downloaded image 22/30\n",
      "Downloaded image 23/30\n",
      "Downloaded image 24/30\n",
      "Downloaded image 25/30\n",
      "Downloaded image 26/30\n",
      "Downloaded image 27/30\n",
      "Downloaded image 28/30\n",
      "Downloaded image 29/30\n",
      "Downloaded image 30/30\n",
      "Saving GeoTIFF. Please wait...\n",
      "Image saved to satellite.tif\n"
     ]
    }
   ],
   "source": [
    "image = \"satellite.tif\"\n",
    "tms_to_geotiff(output=image, bbox=bbox, zoom=16, source=\"Satellite\", overwrite=True)"
   ]
  },
  {
   "cell_type": "markdown",
   "metadata": {},
   "source": [
    "You can also use your own image. Uncomment and run the following cell to use your own image."
   ]
  },
  {
   "cell_type": "code",
   "execution_count": 6,
   "metadata": {},
   "outputs": [],
   "source": [
    "# image = '/path/to/your/own/image.tif'"
   ]
  },
  {
   "cell_type": "markdown",
   "metadata": {},
   "source": [
    "Display the downloaded image on the map."
   ]
  },
  {
   "cell_type": "code",
   "execution_count": 7,
   "metadata": {},
   "outputs": [
    {
     "data": {
      "application/vnd.jupyter.widget-view+json": {
       "model_id": "ad163a98fa304d9a9806a963f08f7d24",
       "version_major": 2,
       "version_minor": 0
      },
      "text/plain": [
       "Map(center=[37.6412, -122.1353], controls=(ZoomControl(options=['position', 'zoom_in_text', 'zoom_in_title', '…"
      ]
     },
     "execution_count": 7,
     "metadata": {},
     "output_type": "execute_result"
    }
   ],
   "source": [
    "m.layers[-1].visible = False\n",
    "m.add_raster(image, layer_name=\"Image\")\n",
    "m"
   ]
  },
  {
   "cell_type": "markdown",
   "metadata": {},
   "source": [
    "## Initialize SAM class\n",
    "\n",
    "Specify the file path to the model checkpoint. If it is not specified, the model will to downloaded to the working directory."
   ]
  },
  {
   "cell_type": "code",
   "execution_count": 8,
   "metadata": {},
   "outputs": [],
   "source": [
    "import torch\n",
    "torch.cuda.empty_cache()"
   ]
  },
  {
   "cell_type": "code",
   "execution_count": 9,
   "metadata": {},
   "outputs": [],
   "source": [
    "out_dir = os.path.join(os.path.expanduser(\"~\"), \"Downloads\")\n",
    "checkpoint = os.path.join(out_dir, \"sam_vit_h_4b8939.pth\")"
   ]
  },
  {
   "cell_type": "markdown",
   "metadata": {},
   "source": [
    "Set `automatic=False` to disable the `SamAutomaticMaskGenerator` and enable the `SamPredictor`."
   ]
  },
  {
   "cell_type": "code",
   "execution_count": 10,
   "metadata": {},
   "outputs": [],
   "source": [
    "sam = SamGeo(\n",
    "    model_type=\"vit_h\",\n",
    "    checkpoint=checkpoint,\n",
    "    automatic=False,\n",
    "    sam_kwargs=None,\n",
    ")"
   ]
  },
  {
   "cell_type": "markdown",
   "metadata": {},
   "source": [
    "Specify the image to segment. "
   ]
  },
  {
   "cell_type": "code",
   "execution_count": 11,
   "metadata": {},
   "outputs": [],
   "source": [
    "sam.set_image(image)"
   ]
  },
  {
   "cell_type": "markdown",
   "metadata": {},
   "source": [
    "## Image segmentation with input points\n",
    "\n",
    "A single point can be used to segment an object. The point can be specified as a tuple of (x, y), such as (col, row) or (lon, lat). The points can also be specified as a file path to a vector dataset. For non (col, row) input points, specify the `point_crs` parameter, which will automatically transform the points to the image column and row coordinates.\n",
    "\n",
    "Try a single point input:"
   ]
  },
  {
   "cell_type": "code",
   "execution_count": 12,
   "metadata": {},
   "outputs": [
    {
     "data": {
      "application/vnd.jupyter.widget-view+json": {
       "model_id": "ad163a98fa304d9a9806a963f08f7d24",
       "version_major": 2,
       "version_minor": 0
      },
      "text/plain": [
       "Map(center=[37.6412, -122.1353], controls=(ZoomControl(options=['position', 'zoom_in_text', 'zoom_in_title', '…"
      ]
     },
     "execution_count": 12,
     "metadata": {},
     "output_type": "execute_result"
    }
   ],
   "source": [
    "point_coords = [[-122.1419, 37.6383]]\n",
    "sam.predict(point_coords, point_labels=1, point_crs=\"EPSG:4326\", output='mask1.tif')\n",
    "m.add_raster('mask1.tif', layer_name=\"Mask1\", nodata=0, cmap=\"Blues\", opacity=1)\n",
    "m"
   ]
  },
  {
   "cell_type": "markdown",
   "metadata": {},
   "source": [
    "Try multiple points input:"
   ]
  },
  {
   "cell_type": "code",
   "execution_count": 13,
   "metadata": {},
   "outputs": [
    {
     "data": {
      "application/vnd.jupyter.widget-view+json": {
       "model_id": "ad163a98fa304d9a9806a963f08f7d24",
       "version_major": 2,
       "version_minor": 0
      },
      "text/plain": [
       "Map(center=[37.6412, -122.1353], controls=(ZoomControl(options=['position', 'zoom_in_text', 'zoom_in_title', '…"
      ]
     },
     "execution_count": 13,
     "metadata": {},
     "output_type": "execute_result"
    }
   ],
   "source": [
    "point_coords = [[-122.1464, 37.6431], [-122.1449, 37.6415], [-122.1451, 37.6395]]\n",
    "sam.predict(point_coords, point_labels=1, point_crs=\"EPSG:4326\", output='mask2.tif')\n",
    "m.add_raster('mask2.tif', layer_name=\"Mask2\", nodata=0, cmap=\"Greens\", opacity=1)\n",
    "m"
   ]
  },
  {
   "cell_type": "markdown",
   "metadata": {},
   "source": [
    "## Interactive segmentation\n",
    "\n",
    "Display the interactive map and use the marker tool to draw points on the map. Then click on the `Segment` button to segment the objects. The results will be added to the map automatically. Click on the `Reset` button to clear the points and the results."
   ]
  },
  {
   "cell_type": "code",
   "execution_count": 15,
   "metadata": {},
   "outputs": [
    {
     "data": {
      "application/vnd.jupyter.widget-view+json": {
       "model_id": "a0ae37dd52d947c79ad23f0cb87d1389",
       "version_major": 2,
       "version_minor": 0
      },
      "text/plain": [
       "Map(center=[20, 0], controls=(ZoomControl(options=['position', 'zoom_in_text', 'zoom_in_title', 'zoom_out_text…"
      ]
     },
     "execution_count": 15,
     "metadata": {},
     "output_type": "execute_result"
    }
   ],
   "source": [
    "m = sam.show_map()\n",
    "m.attribution_control=False\n",
    "m"
   ]
  },
  {
   "cell_type": "markdown",
   "metadata": {},
   "source": [
    "## Outputs Reference: \n",
    "Reference in GIF format pulled from imgur.com."
   ]
  },
  {
   "cell_type": "markdown",
   "metadata": {},
   "source": [
    "![](https://i.imgur.com/2Nyg9uW.gif)"
   ]
  }
 ],
 "metadata": {
  "kernelspec": {
   "display_name": "Python 3 (ipykernel)",
   "language": "python",
   "name": "python3"
  },
  "language_info": {
   "codemirror_mode": {
    "name": "ipython",
    "version": 3
   },
   "file_extension": ".py",
   "mimetype": "text/x-python",
   "name": "python",
   "nbconvert_exporter": "python",
   "pygments_lexer": "ipython3",
   "version": "3.10.8"
  }
 },
 "nbformat": 4,
 "nbformat_minor": 4
}
