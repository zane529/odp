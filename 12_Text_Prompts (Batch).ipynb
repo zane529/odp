{
 "cells": [
  {
   "cell_type": "markdown",
   "metadata": {},
   "source": [
    "# Batch segmentation with text prompts\n",
    "\n",
    "This notebook shows how to generate object masks from text prompts with the Segment Anything Model (SAM). Make sure you use GPU runtime for this notebook. "
   ]
  },
  {
   "cell_type": "markdown",
   "metadata": {},
   "source": [
    "## Setup"
   ]
  },
  {
   "cell_type": "code",
   "execution_count": 1,
   "metadata": {},
   "outputs": [
    {
     "name": "stdout",
     "output_type": "stream",
     "text": [
      "Current working directory: /home/ec2-user/SageMaker/ODP_Demo/tmp\n"
     ]
    }
   ],
   "source": [
    "# Import the os module\n",
    "import os\n",
    "\n",
    "path = 'tmp/'\n",
    "\n",
    "try:\n",
    "    os.chdir(path)\n",
    "    print(\"Current working directory: {0}\".format(os.getcwd()))\n",
    "except FileNotFoundError:\n",
    "    print(\"Directory: {0} does not exist\".format(path))\n",
    "except NotADirectoryError:\n",
    "    print(\"{0} is not a directory\".format(path))\n",
    "except PermissionError:\n",
    "    print(\"You do not have permissions to change to {0}\".format(path))"
   ]
  },
  {
   "cell_type": "markdown",
   "metadata": {},
   "source": [
    "# Call Libs"
   ]
  },
  {
   "cell_type": "code",
   "execution_count": 2,
   "metadata": {},
   "outputs": [],
   "source": [
    "import leafmap\n",
    "from samgeo import tms_to_geotiff, split_raster\n",
    "from samgeo.text_sam import LangSAM"
   ]
  },
  {
   "cell_type": "markdown",
   "metadata": {},
   "source": [
    "## Create an interactive map"
   ]
  },
  {
   "cell_type": "code",
   "execution_count": 3,
   "metadata": {},
   "outputs": [
    {
     "data": {
      "application/vnd.jupyter.widget-view+json": {
       "model_id": "873cf24537374148a45322ebdd6e5cf3",
       "version_major": 2,
       "version_minor": 0
      },
      "text/plain": [
       "Map(center=[-22.1278, -51.443], controls=(ZoomControl(options=['position', 'zoom_in_text', 'zoom_in_title', 'z…"
      ]
     },
     "execution_count": 3,
     "metadata": {},
     "output_type": "execute_result"
    }
   ],
   "source": [
    "m = leafmap.Map(center=[-22.1278, -51.4430], zoom=17, height=\"800px\")\n",
    "m.add_basemap(\"SATELLITE\")\n",
    "m.attribution_control=False\n",
    "m"
   ]
  },
  {
   "cell_type": "markdown",
   "metadata": {},
   "source": [
    "## Download a sample image\n",
    "\n",
    "Pan and zoom the map to select the area of interest. Use the draw tools to draw a polygon or rectangle on the map"
   ]
  },
  {
   "cell_type": "code",
   "execution_count": 4,
   "metadata": {},
   "outputs": [],
   "source": [
    "bbox = m.user_roi_bounds()\n",
    "if bbox is None:\n",
    "    bbox = [-51.4494, -22.1307, -51.4371, -22.1244]"
   ]
  },
  {
   "cell_type": "code",
   "execution_count": 5,
   "metadata": {},
   "outputs": [
    {
     "name": "stdout",
     "output_type": "stream",
     "text": [
      "Downloaded image 001/209\n",
      "Downloaded image 002/209\n",
      "Downloaded image 003/209\n",
      "Downloaded image 004/209\n",
      "Downloaded image 005/209\n",
      "Downloaded image 006/209\n",
      "Downloaded image 007/209\n",
      "Downloaded image 008/209\n",
      "Downloaded image 009/209\n",
      "Downloaded image 010/209\n",
      "Downloaded image 011/209\n",
      "Downloaded image 012/209\n",
      "Downloaded image 013/209\n",
      "Downloaded image 014/209\n",
      "Downloaded image 015/209\n",
      "Downloaded image 016/209\n",
      "Downloaded image 017/209\n",
      "Downloaded image 018/209\n",
      "Downloaded image 019/209\n",
      "Downloaded image 020/209\n",
      "Downloaded image 021/209\n",
      "Downloaded image 022/209\n",
      "Downloaded image 023/209\n",
      "Downloaded image 024/209\n",
      "Downloaded image 025/209\n",
      "Downloaded image 026/209\n",
      "Downloaded image 027/209\n",
      "Downloaded image 028/209\n",
      "Downloaded image 029/209\n",
      "Downloaded image 030/209\n",
      "Downloaded image 031/209\n",
      "Downloaded image 032/209\n",
      "Downloaded image 033/209\n",
      "Downloaded image 034/209\n",
      "Downloaded image 035/209\n",
      "Downloaded image 036/209\n",
      "Downloaded image 037/209\n",
      "Downloaded image 038/209\n",
      "Downloaded image 039/209\n",
      "Downloaded image 040/209\n",
      "Downloaded image 041/209\n",
      "Downloaded image 042/209\n",
      "Downloaded image 043/209\n",
      "Downloaded image 044/209\n",
      "Downloaded image 045/209\n",
      "Downloaded image 046/209\n",
      "Downloaded image 047/209\n",
      "Downloaded image 048/209\n",
      "Downloaded image 049/209\n",
      "Downloaded image 050/209\n",
      "Downloaded image 051/209\n",
      "Downloaded image 052/209\n",
      "Downloaded image 053/209\n",
      "Downloaded image 054/209\n",
      "Downloaded image 055/209\n",
      "Downloaded image 056/209\n",
      "Downloaded image 057/209\n",
      "Downloaded image 058/209\n",
      "Downloaded image 059/209\n",
      "Downloaded image 060/209\n",
      "Downloaded image 061/209\n",
      "Downloaded image 062/209\n",
      "Downloaded image 063/209\n",
      "Downloaded image 064/209\n",
      "Downloaded image 065/209\n",
      "Downloaded image 066/209\n",
      "Downloaded image 067/209\n",
      "Downloaded image 068/209\n",
      "Downloaded image 069/209\n",
      "Downloaded image 070/209\n",
      "Downloaded image 071/209\n",
      "Downloaded image 072/209\n",
      "Downloaded image 073/209\n",
      "Downloaded image 074/209\n",
      "Downloaded image 075/209\n",
      "Downloaded image 076/209\n",
      "Downloaded image 077/209\n",
      "Downloaded image 078/209\n",
      "Downloaded image 079/209\n",
      "Downloaded image 080/209\n",
      "Downloaded image 081/209\n",
      "Downloaded image 082/209\n",
      "Downloaded image 083/209\n",
      "Downloaded image 084/209\n",
      "Downloaded image 085/209\n",
      "Downloaded image 086/209\n",
      "Downloaded image 087/209\n",
      "Downloaded image 088/209\n",
      "Downloaded image 089/209\n",
      "Downloaded image 090/209\n",
      "Downloaded image 091/209\n",
      "Downloaded image 092/209\n",
      "Downloaded image 093/209\n",
      "Downloaded image 094/209\n",
      "Downloaded image 095/209\n",
      "Downloaded image 096/209\n",
      "Downloaded image 097/209\n",
      "Downloaded image 098/209\n",
      "Downloaded image 099/209\n",
      "Downloaded image 100/209\n",
      "Downloaded image 101/209\n",
      "Downloaded image 102/209\n",
      "Downloaded image 103/209\n",
      "Downloaded image 104/209\n",
      "Downloaded image 105/209\n",
      "Downloaded image 106/209\n",
      "Downloaded image 107/209\n",
      "Downloaded image 108/209\n",
      "Downloaded image 109/209\n",
      "Downloaded image 110/209\n",
      "Downloaded image 111/209\n",
      "Downloaded image 112/209\n",
      "Downloaded image 113/209\n",
      "Downloaded image 114/209\n",
      "Downloaded image 115/209\n",
      "Downloaded image 116/209\n",
      "Downloaded image 117/209\n",
      "Downloaded image 118/209\n",
      "Downloaded image 119/209\n",
      "Downloaded image 120/209\n",
      "Downloaded image 121/209\n",
      "Downloaded image 122/209\n",
      "Downloaded image 123/209\n",
      "Downloaded image 124/209\n",
      "Downloaded image 125/209\n",
      "Downloaded image 126/209\n",
      "Downloaded image 127/209\n",
      "Downloaded image 128/209\n",
      "Downloaded image 129/209\n",
      "Downloaded image 130/209\n",
      "Downloaded image 131/209\n",
      "Downloaded image 132/209\n",
      "Downloaded image 133/209\n",
      "Downloaded image 134/209\n",
      "Downloaded image 135/209\n",
      "Downloaded image 136/209\n",
      "Downloaded image 137/209\n",
      "Downloaded image 138/209\n",
      "Downloaded image 139/209\n",
      "Downloaded image 140/209\n",
      "Downloaded image 141/209\n",
      "Downloaded image 142/209\n",
      "Downloaded image 143/209\n",
      "Downloaded image 144/209\n",
      "Downloaded image 145/209\n",
      "Downloaded image 146/209\n",
      "Downloaded image 147/209\n",
      "Downloaded image 148/209\n",
      "Downloaded image 149/209\n",
      "Downloaded image 150/209\n",
      "Downloaded image 151/209\n",
      "Downloaded image 152/209\n",
      "Downloaded image 153/209\n",
      "Downloaded image 154/209\n",
      "Downloaded image 155/209\n",
      "Downloaded image 156/209\n",
      "Downloaded image 157/209\n",
      "Downloaded image 158/209\n",
      "Downloaded image 159/209\n",
      "Downloaded image 160/209\n",
      "Downloaded image 161/209\n",
      "Downloaded image 162/209\n",
      "Downloaded image 163/209\n",
      "Downloaded image 164/209\n",
      "Downloaded image 165/209\n",
      "Downloaded image 166/209\n",
      "Downloaded image 167/209\n",
      "Downloaded image 168/209\n",
      "Downloaded image 169/209\n",
      "Downloaded image 170/209\n",
      "Downloaded image 171/209\n",
      "Downloaded image 172/209\n",
      "Downloaded image 173/209\n",
      "Downloaded image 174/209\n",
      "Downloaded image 175/209\n",
      "Downloaded image 176/209\n",
      "Downloaded image 177/209\n",
      "Downloaded image 178/209\n",
      "Downloaded image 179/209\n",
      "Downloaded image 180/209\n",
      "Downloaded image 181/209\n",
      "Downloaded image 182/209\n",
      "Downloaded image 183/209\n",
      "Downloaded image 184/209\n",
      "Downloaded image 185/209\n",
      "Downloaded image 186/209\n",
      "Downloaded image 187/209\n",
      "Downloaded image 188/209\n",
      "Downloaded image 189/209\n",
      "Downloaded image 190/209\n",
      "Downloaded image 191/209\n",
      "Downloaded image 192/209\n",
      "Downloaded image 193/209\n",
      "Downloaded image 194/209\n",
      "Downloaded image 195/209\n",
      "Downloaded image 196/209\n",
      "Downloaded image 197/209\n",
      "Downloaded image 198/209\n",
      "Downloaded image 199/209\n",
      "Downloaded image 200/209\n",
      "Downloaded image 201/209\n",
      "Downloaded image 202/209\n",
      "Downloaded image 203/209\n",
      "Downloaded image 204/209\n",
      "Downloaded image 205/209\n",
      "Downloaded image 206/209\n",
      "Downloaded image 207/209\n",
      "Downloaded image 208/209\n",
      "Downloaded image 209/209\n",
      "Saving GeoTIFF. Please wait...\n",
      "Image saved to Image.tif\n"
     ]
    }
   ],
   "source": [
    "image = \"Image.tif\"\n",
    "tms_to_geotiff(output=image, bbox=bbox, zoom=19, source=\"Satellite\", overwrite=True)"
   ]
  },
  {
   "cell_type": "markdown",
   "metadata": {},
   "source": [
    "You can also use your own image. Uncomment and run the following cell to use your own image."
   ]
  },
  {
   "cell_type": "code",
   "execution_count": 6,
   "metadata": {},
   "outputs": [],
   "source": [
    "# image = '/path/to/your/own/image.tif'"
   ]
  },
  {
   "cell_type": "markdown",
   "metadata": {},
   "source": [
    "Display the downloaded image on the map."
   ]
  },
  {
   "cell_type": "code",
   "execution_count": 7,
   "metadata": {},
   "outputs": [
    {
     "data": {
      "application/vnd.jupyter.widget-view+json": {
       "model_id": "873cf24537374148a45322ebdd6e5cf3",
       "version_major": 2,
       "version_minor": 0
      },
      "text/plain": [
       "Map(center=[-22.1278, -51.443], controls=(ZoomControl(options=['position', 'zoom_in_text', 'zoom_in_title', 'z…"
      ]
     },
     "execution_count": 7,
     "metadata": {},
     "output_type": "execute_result"
    }
   ],
   "source": [
    "m.layers[-1].visible = False\n",
    "m.add_raster(image, layer_name=\"Image\")\n",
    "m"
   ]
  },
  {
   "cell_type": "markdown",
   "metadata": {},
   "source": [
    "## Split the image into tiles"
   ]
  },
  {
   "cell_type": "code",
   "execution_count": 8,
   "metadata": {},
   "outputs": [],
   "source": [
    "split_raster(image, out_dir=\"tiles\", tile_size=(1000, 1000), overlap=0)"
   ]
  },
  {
   "cell_type": "markdown",
   "metadata": {},
   "source": [
    "## Init CUDA Memory"
   ]
  },
  {
   "cell_type": "code",
   "execution_count": null,
   "metadata": {},
   "outputs": [],
   "source": [
    "import torch\n",
    "torch.cuda.empty_cache()"
   ]
  },
  {
   "cell_type": "markdown",
   "metadata": {},
   "source": [
    "## Initialize LangSAM class\n",
    "\n",
    "The initialization of the LangSAM class might take a few minutes. The initialization downloads the model weights and sets up the model for inference."
   ]
  },
  {
   "cell_type": "code",
   "execution_count": 9,
   "metadata": {},
   "outputs": [
    {
     "name": "stdout",
     "output_type": "stream",
     "text": [
      "final text_encoder_type: bert-base-uncased\n"
     ]
    },
    {
     "name": "stderr",
     "output_type": "stream",
     "text": [
      "Some weights of the model checkpoint at bert-base-uncased were not used when initializing BertModel: ['cls.predictions.transform.dense.weight', 'cls.predictions.transform.LayerNorm.weight', 'cls.predictions.bias', 'cls.seq_relationship.bias', 'cls.predictions.transform.LayerNorm.bias', 'cls.seq_relationship.weight', 'cls.predictions.transform.dense.bias']\n",
      "- This IS expected if you are initializing BertModel from the checkpoint of a model trained on another task or with another architecture (e.g. initializing a BertForSequenceClassification model from a BertForPreTraining model).\n",
      "- This IS NOT expected if you are initializing BertModel from the checkpoint of a model that you expect to be exactly identical (initializing a BertForSequenceClassification model from a BertForSequenceClassification model).\n"
     ]
    }
   ],
   "source": [
    "sam = LangSAM()"
   ]
  },
  {
   "cell_type": "markdown",
   "metadata": {},
   "source": [
    "## Specify text prompts"
   ]
  },
  {
   "cell_type": "code",
   "execution_count": 10,
   "metadata": {},
   "outputs": [],
   "source": [
    "text_prompt = \"tree\""
   ]
  },
  {
   "cell_type": "markdown",
   "metadata": {},
   "source": [
    "## Segment images\n",
    "\n",
    "Part of the model prediction includes setting appropriate thresholds for object detection and text association with the detected objects. These threshold values range from 0 to 1 and are set while calling the predict method of the LangSAM class.\n",
    "\n",
    "`box_threshold`: This value is used for object detection in the image. A higher value makes the model more selective, identifying only the most confident object instances, leading to fewer overall detections. A lower value, conversely, makes the model more tolerant, leading to increased detections, including potentially less confident ones.\n",
    "\n",
    "`text_threshold`: This value is used to associate the detected objects with the provided text prompt. A higher value requires a stronger association between the object and the text prompt, leading to more precise but potentially fewer associations. A lower value allows for looser associations, which could increase the number of associations but also introduce less precise matches.\n",
    "\n",
    "Remember to test different threshold values on your specific data. The optimal threshold can vary depending on the quality and nature of your images, as well as the specificity of your text prompts. Make sure to choose a balance that suits your requirements, whether that's precision or recall."
   ]
  },
  {
   "cell_type": "code",
   "execution_count": 13,
   "metadata": {},
   "outputs": [
    {
     "name": "stdout",
     "output_type": "stream",
     "text": [
      "Processing image 01 of 15: tiles/tile_0_0.tif...\n",
      "Processing image 02 of 15: tiles/tile_0_1.tif...\n",
      "Processing image 03 of 15: tiles/tile_0_2.tif...\n",
      "Processing image 04 of 15: tiles/tile_1_0.tif...\n",
      "Processing image 05 of 15: tiles/tile_1_1.tif...\n",
      "Processing image 06 of 15: tiles/tile_1_2.tif...\n",
      "Processing image 07 of 15: tiles/tile_2_0.tif...\n",
      "Processing image 08 of 15: tiles/tile_2_1.tif...\n",
      "Processing image 09 of 15: tiles/tile_2_2.tif...\n",
      "Processing image 10 of 15: tiles/tile_3_0.tif...\n",
      "Processing image 11 of 15: tiles/tile_3_1.tif...\n",
      "Processing image 12 of 15: tiles/tile_3_2.tif...\n",
      "Processing image 13 of 15: tiles/tile_4_0.tif...\n",
      "Processing image 14 of 15: tiles/tile_4_1.tif...\n",
      "Processing image 15 of 15: tiles/tile_4_2.tif...\n",
      "Saved the merged prediction to masks/merged.tif.\n"
     ]
    }
   ],
   "source": [
    "sam.predict_batch(\n",
    "    images='tiles', \n",
    "    out_dir='masks', \n",
    "    text_prompt=text_prompt, \n",
    "    box_threshold=0.24, \n",
    "    text_threshold=0.24,\n",
    "    mask_multiplier=255, \n",
    "    dtype='uint8',\n",
    "    merge=True,\n",
    "    verbose=True\n",
    "    )"
   ]
  },
  {
   "cell_type": "markdown",
   "metadata": {},
   "source": [
    "## Visualize the results"
   ]
  },
  {
   "cell_type": "code",
   "execution_count": 14,
   "metadata": {},
   "outputs": [
    {
     "data": {
      "application/vnd.jupyter.widget-view+json": {
       "model_id": "873cf24537374148a45322ebdd6e5cf3",
       "version_major": 2,
       "version_minor": 0
      },
      "text/plain": [
       "Map(bottom=18893320.0, center=[-22.127547400799678, -51.4432454109192], controls=(ZoomControl(options=['positi…"
      ]
     },
     "execution_count": 14,
     "metadata": {},
     "output_type": "execute_result"
    }
   ],
   "source": [
    "m.add_raster('masks/merged.tif', cmap='viridis', nodata=0, layer_name='Mask')\n",
    "m.add_layer_manager()\n",
    "m"
   ]
  },
  {
   "cell_type": "markdown",
   "metadata": {},
   "source": [
    "![](https://i.imgur.com/JUhNkm6.png)"
   ]
  }
 ],
 "metadata": {
  "kernelspec": {
   "display_name": "Python 3 (ipykernel)",
   "language": "python",
   "name": "python3"
  },
  "language_info": {
   "codemirror_mode": {
    "name": "ipython",
    "version": 3
   },
   "file_extension": ".py",
   "mimetype": "text/x-python",
   "name": "python",
   "nbconvert_exporter": "python",
   "pygments_lexer": "ipython3",
   "version": "3.10.8"
  }
 },
 "nbformat": 4,
 "nbformat_minor": 4
}
